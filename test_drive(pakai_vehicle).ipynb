{
  "cells": [
    {
      "cell_type": "markdown",
      "metadata": {
        "id": "F7mt-xXJv-4-"
      },
      "source": [
        "<center><h1>Final Project</h1></center>\n",
        "<hr>"
      ]
    },
    {
      "cell_type": "markdown",
      "metadata": {
        "id": "B3Nqnsjzv-5D"
      },
      "source": [
        "## Dataset"
      ]
    },
    {
      "cell_type": "markdown",
      "metadata": {
        "id": "m9Q_8edcv-5F"
      },
      "source": [
        "Dataset yang digunakan untuk <a href='#'>Test Drive</a> yang terdiri dari 17293 baris data dan 9 kolom.\n",
        "\n",
        "__Attribute Information :__\n",
        "\n",
        "* __ID Ticket__ : Nomor ID Tiket\n",
        "* __Provinsi__ : Provinsi\n",
        "* __Kota__ : Kota\n",
        "* __Gender__ : Jenis Kelamin\n",
        "* __Tahun Lahir__ : Tahun Lahir\n",
        "* __Visit Time__ : Waktu Kedatangan Pengunjung\n",
        "* __Test Drive Brand__ : Merk Tes Mengemudi\n",
        "* __Vehicle__ : Kendaraan\n",
        "* __Kategori__ : Kategori\n",
        "\n"
      ]
    },
    {
      "cell_type": "markdown",
      "metadata": {
        "id": "RZRaHAb6v-5G"
      },
      "source": [
        "Pertama kita <i>import</i> <i>library</i> yang akan digunakan terlebih dahulu seperti Pandas, Numpy, Matplotlib, dan Seaborn."
      ]
    },
    {
      "cell_type": "markdown",
      "metadata": {
        "id": "aC3NSnNswn3w"
      },
      "source": [
        ""
      ]
    },
    {
      "cell_type": "code",
      "execution_count": null,
      "metadata": {
        "id": "H-KkJxAMv-5G"
      },
      "outputs": [],
      "source": [
        "import numpy as np\n",
        "import pandas as pd\n",
        "import matplotlib.pyplot as plt\n",
        "import seaborn as sns\n",
        "%matplotlib inline"
      ]
    },
    {
      "cell_type": "markdown",
      "metadata": {
        "id": "I72J3EJFv-5H"
      },
      "source": [
        "Kemudian kita <i>load</i> dataset ke dalam dataframe Pandas dengan \n",
        "<code>read_excel()</code>.\n",
        "\n"
      ]
    },
    {
      "cell_type": "code",
      "execution_count": null,
      "metadata": {
        "colab": {
          "base_uri": "https://localhost:8080/",
          "height": 205
        },
        "id": "iJhfUMzcv-5I",
        "outputId": "145809ee-e310-43d3-b227-5b91ae05753c"
      },
      "outputs": [
        {
          "output_type": "execute_result",
          "data": {
            "text/html": [
              "\n",
              "  <div id=\"df-10da7692-e3d8-47a7-b766-923e2eff918c\">\n",
              "    <div class=\"colab-df-container\">\n",
              "      <div>\n",
              "<style scoped>\n",
              "    .dataframe tbody tr th:only-of-type {\n",
              "        vertical-align: middle;\n",
              "    }\n",
              "\n",
              "    .dataframe tbody tr th {\n",
              "        vertical-align: top;\n",
              "    }\n",
              "\n",
              "    .dataframe thead th {\n",
              "        text-align: right;\n",
              "    }\n",
              "</style>\n",
              "<table border=\"1\" class=\"dataframe\">\n",
              "  <thead>\n",
              "    <tr style=\"text-align: right;\">\n",
              "      <th></th>\n",
              "      <th>id_ticket</th>\n",
              "      <th>provinsi</th>\n",
              "      <th>kota</th>\n",
              "      <th>gender</th>\n",
              "      <th>tahun_lahir</th>\n",
              "      <th>visit_time</th>\n",
              "      <th>test_drive_brand</th>\n",
              "      <th>vehicle</th>\n",
              "      <th>kategori</th>\n",
              "    </tr>\n",
              "  </thead>\n",
              "  <tbody>\n",
              "    <tr>\n",
              "      <th>0</th>\n",
              "      <td>1</td>\n",
              "      <td>DKI Jakarta</td>\n",
              "      <td>Jakarta Selatan</td>\n",
              "      <td>Male</td>\n",
              "      <td>2001.0</td>\n",
              "      <td>2021-11-15 14:00:00</td>\n",
              "      <td>Isuzu Indonesia</td>\n",
              "      <td>MU-X 4x4</td>\n",
              "      <td>Crossover SUV</td>\n",
              "    </tr>\n",
              "    <tr>\n",
              "      <th>1</th>\n",
              "      <td>2</td>\n",
              "      <td>Banten</td>\n",
              "      <td>Tangerang Selatan</td>\n",
              "      <td>Male</td>\n",
              "      <td>1999.0</td>\n",
              "      <td>2021-11-14 11:00:00</td>\n",
              "      <td>Mazda Indonesia</td>\n",
              "      <td>CX-3</td>\n",
              "      <td>Subcompact crossover SUV</td>\n",
              "    </tr>\n",
              "    <tr>\n",
              "      <th>2</th>\n",
              "      <td>3</td>\n",
              "      <td>Banten</td>\n",
              "      <td>Tangerang, Kab.</td>\n",
              "      <td>Female</td>\n",
              "      <td>1989.0</td>\n",
              "      <td>2021-11-12 14:00:00</td>\n",
              "      <td>Honda</td>\n",
              "      <td>CR-V</td>\n",
              "      <td>crossover SUV</td>\n",
              "    </tr>\n",
              "    <tr>\n",
              "      <th>3</th>\n",
              "      <td>4</td>\n",
              "      <td>DKI Jakarta</td>\n",
              "      <td>Jakarta Selatan</td>\n",
              "      <td>Male</td>\n",
              "      <td>2002.0</td>\n",
              "      <td>2021-11-21 11:00:00</td>\n",
              "      <td>Hyundai Indonesia</td>\n",
              "      <td>STARIA</td>\n",
              "      <td>Minivan</td>\n",
              "    </tr>\n",
              "    <tr>\n",
              "      <th>4</th>\n",
              "      <td>5</td>\n",
              "      <td>Jawa Barat</td>\n",
              "      <td>Bekasi, Kab.</td>\n",
              "      <td>Male</td>\n",
              "      <td>1998.0</td>\n",
              "      <td>2021-11-16 11:00:00</td>\n",
              "      <td>KIA</td>\n",
              "      <td>GRAND CARNIVAL</td>\n",
              "      <td>Minivan</td>\n",
              "    </tr>\n",
              "  </tbody>\n",
              "</table>\n",
              "</div>\n",
              "      <button class=\"colab-df-convert\" onclick=\"convertToInteractive('df-10da7692-e3d8-47a7-b766-923e2eff918c')\"\n",
              "              title=\"Convert this dataframe to an interactive table.\"\n",
              "              style=\"display:none;\">\n",
              "        \n",
              "  <svg xmlns=\"http://www.w3.org/2000/svg\" height=\"24px\"viewBox=\"0 0 24 24\"\n",
              "       width=\"24px\">\n",
              "    <path d=\"M0 0h24v24H0V0z\" fill=\"none\"/>\n",
              "    <path d=\"M18.56 5.44l.94 2.06.94-2.06 2.06-.94-2.06-.94-.94-2.06-.94 2.06-2.06.94zm-11 1L8.5 8.5l.94-2.06 2.06-.94-2.06-.94L8.5 2.5l-.94 2.06-2.06.94zm10 10l.94 2.06.94-2.06 2.06-.94-2.06-.94-.94-2.06-.94 2.06-2.06.94z\"/><path d=\"M17.41 7.96l-1.37-1.37c-.4-.4-.92-.59-1.43-.59-.52 0-1.04.2-1.43.59L10.3 9.45l-7.72 7.72c-.78.78-.78 2.05 0 2.83L4 21.41c.39.39.9.59 1.41.59.51 0 1.02-.2 1.41-.59l7.78-7.78 2.81-2.81c.8-.78.8-2.07 0-2.86zM5.41 20L4 18.59l7.72-7.72 1.47 1.35L5.41 20z\"/>\n",
              "  </svg>\n",
              "      </button>\n",
              "      \n",
              "  <style>\n",
              "    .colab-df-container {\n",
              "      display:flex;\n",
              "      flex-wrap:wrap;\n",
              "      gap: 12px;\n",
              "    }\n",
              "\n",
              "    .colab-df-convert {\n",
              "      background-color: #E8F0FE;\n",
              "      border: none;\n",
              "      border-radius: 50%;\n",
              "      cursor: pointer;\n",
              "      display: none;\n",
              "      fill: #1967D2;\n",
              "      height: 32px;\n",
              "      padding: 0 0 0 0;\n",
              "      width: 32px;\n",
              "    }\n",
              "\n",
              "    .colab-df-convert:hover {\n",
              "      background-color: #E2EBFA;\n",
              "      box-shadow: 0px 1px 2px rgba(60, 64, 67, 0.3), 0px 1px 3px 1px rgba(60, 64, 67, 0.15);\n",
              "      fill: #174EA6;\n",
              "    }\n",
              "\n",
              "    [theme=dark] .colab-df-convert {\n",
              "      background-color: #3B4455;\n",
              "      fill: #D2E3FC;\n",
              "    }\n",
              "\n",
              "    [theme=dark] .colab-df-convert:hover {\n",
              "      background-color: #434B5C;\n",
              "      box-shadow: 0px 1px 3px 1px rgba(0, 0, 0, 0.15);\n",
              "      filter: drop-shadow(0px 1px 2px rgba(0, 0, 0, 0.3));\n",
              "      fill: #FFFFFF;\n",
              "    }\n",
              "  </style>\n",
              "\n",
              "      <script>\n",
              "        const buttonEl =\n",
              "          document.querySelector('#df-10da7692-e3d8-47a7-b766-923e2eff918c button.colab-df-convert');\n",
              "        buttonEl.style.display =\n",
              "          google.colab.kernel.accessAllowed ? 'block' : 'none';\n",
              "\n",
              "        async function convertToInteractive(key) {\n",
              "          const element = document.querySelector('#df-10da7692-e3d8-47a7-b766-923e2eff918c');\n",
              "          const dataTable =\n",
              "            await google.colab.kernel.invokeFunction('convertToInteractive',\n",
              "                                                     [key], {});\n",
              "          if (!dataTable) return;\n",
              "\n",
              "          const docLinkHtml = 'Like what you see? Visit the ' +\n",
              "            '<a target=\"_blank\" href=https://colab.research.google.com/notebooks/data_table.ipynb>data table notebook</a>'\n",
              "            + ' to learn more about interactive tables.';\n",
              "          element.innerHTML = '';\n",
              "          dataTable['output_type'] = 'display_data';\n",
              "          await google.colab.output.renderOutput(dataTable, element);\n",
              "          const docLink = document.createElement('div');\n",
              "          docLink.innerHTML = docLinkHtml;\n",
              "          element.appendChild(docLink);\n",
              "        }\n",
              "      </script>\n",
              "    </div>\n",
              "  </div>\n",
              "  "
            ],
            "text/plain": [
              "   id_ticket     provinsi  ...         vehicle                  kategori\n",
              "0          1  DKI Jakarta  ...        MU-X 4x4             Crossover SUV\n",
              "1          2       Banten  ...            CX-3  Subcompact crossover SUV\n",
              "2          3       Banten  ...            CR-V             crossover SUV\n",
              "3          4  DKI Jakarta  ...          STARIA                   Minivan\n",
              "4          5   Jawa Barat  ...  GRAND CARNIVAL                   Minivan\n",
              "\n",
              "[5 rows x 9 columns]"
            ]
          },
          "metadata": {},
          "execution_count": 2
        }
      ],
      "source": [
        "# Load dataset ke dataframe Pandas\n",
        "url ='https://github.com/skywonder987/data/blob/8e29a5d27197a7d7f84335640c8ea8897f447722/test-drive.xlsx?raw=true'\n",
        "df = pd.read_excel(url)\n",
        "df.head(5)"
      ]
    },
    {
      "cell_type": "code",
      "execution_count": null,
      "metadata": {
        "colab": {
          "base_uri": "https://localhost:8080/"
        },
        "id": "mW2DNKs5v-5J",
        "outputId": "3bcf8d74-970e-4569-8875-80492e32a9bc"
      },
      "outputs": [
        {
          "output_type": "execute_result",
          "data": {
            "text/plain": [
              "(17293, 9)"
            ]
          },
          "metadata": {},
          "execution_count": 3
        }
      ],
      "source": [
        "df.shape"
      ]
    },
    {
      "cell_type": "markdown",
      "metadata": {
        "id": "BbPqtUq4v-5K"
      },
      "source": [
        "Menampikan <code>info dataset</code>."
      ]
    },
    {
      "cell_type": "code",
      "execution_count": null,
      "metadata": {
        "colab": {
          "base_uri": "https://localhost:8080/"
        },
        "id": "WPJsGlNBv-5L",
        "outputId": "86a02729-a4f2-4a17-a2fb-4d1742747d7b"
      },
      "outputs": [
        {
          "output_type": "stream",
          "name": "stdout",
          "text": [
            "<class 'pandas.core.frame.DataFrame'>\n",
            "RangeIndex: 17293 entries, 0 to 17292\n",
            "Data columns (total 9 columns):\n",
            " #   Column            Non-Null Count  Dtype         \n",
            "---  ------            --------------  -----         \n",
            " 0   id_ticket         17293 non-null  int64         \n",
            " 1   provinsi          17293 non-null  object        \n",
            " 2   kota              17293 non-null  object        \n",
            " 3   gender            17293 non-null  object        \n",
            " 4   tahun_lahir       15621 non-null  float64       \n",
            " 5   visit_time        15621 non-null  datetime64[ns]\n",
            " 6   test_drive_brand  17293 non-null  object        \n",
            " 7   vehicle           17293 non-null  object        \n",
            " 8   kategori          17293 non-null  object        \n",
            "dtypes: datetime64[ns](1), float64(1), int64(1), object(6)\n",
            "memory usage: 1.2+ MB\n"
          ]
        }
      ],
      "source": [
        "df.info()"
      ]
    },
    {
      "cell_type": "markdown",
      "metadata": {
        "id": "ulDFZ1zJv-5M"
      },
      "source": [
        "### Missing values"
      ]
    },
    {
      "cell_type": "code",
      "execution_count": null,
      "metadata": {
        "colab": {
          "base_uri": "https://localhost:8080/"
        },
        "id": "93zsrxdmv-5M",
        "outputId": "6082801f-0849-4722-a419-a076af980727"
      },
      "outputs": [
        {
          "output_type": "execute_result",
          "data": {
            "text/plain": [
              "id_ticket              0\n",
              "provinsi               0\n",
              "kota                   0\n",
              "gender                 0\n",
              "tahun_lahir         1672\n",
              "visit_time          1672\n",
              "test_drive_brand       0\n",
              "vehicle                0\n",
              "kategori               0\n",
              "dtype: int64"
            ]
          },
          "metadata": {},
          "execution_count": 5
        }
      ],
      "source": [
        "df.isnull().sum()"
      ]
    },
    {
      "cell_type": "markdown",
      "metadata": {
        "id": "yp0nQtzQv-5M"
      },
      "source": [
        "Menghapus baris yang mengandung <i>missing values</i> dapat menggunakan fungsi <code>dropna()</code>"
      ]
    },
    {
      "cell_type": "code",
      "execution_count": null,
      "metadata": {
        "id": "oBGzQ0Giv-5N"
      },
      "outputs": [],
      "source": [
        "import numpy as np\n",
        "\n",
        "dataset=df\n",
        "col=['provinsi','gender','tahun_lahir']\n",
        "dataset[col]=dataset[col].replace(0, np.NaN)\n",
        "dataset[col].isnull().sum()\n",
        "dataset_drop = dataset\n",
        "dataset_drop.dropna(inplace=True)\n",
        "data_drop = dataset_drop.values"
      ]
    },
    {
      "cell_type": "markdown",
      "metadata": {
        "id": "NhzXQeibv-5O"
      },
      "source": [
        "Me-reset indeks karena ada data yang terhapus"
      ]
    },
    {
      "cell_type": "code",
      "execution_count": null,
      "metadata": {
        "id": "Cet5eWWCv-5O"
      },
      "outputs": [],
      "source": [
        "df.reset_index(drop=True, inplace=True)"
      ]
    },
    {
      "cell_type": "markdown",
      "metadata": {
        "id": "ce3NWSErv-5O"
      },
      "source": [
        "Mengecek jumlah missing values sudah tidak ada"
      ]
    },
    {
      "cell_type": "code",
      "execution_count": null,
      "metadata": {
        "colab": {
          "base_uri": "https://localhost:8080/"
        },
        "id": "n_PydElqv-5O",
        "outputId": "e0bd9da3-bb67-4e09-c6b9-930031463e75"
      },
      "outputs": [
        {
          "output_type": "execute_result",
          "data": {
            "text/plain": [
              "id_ticket           0\n",
              "provinsi            0\n",
              "kota                0\n",
              "gender              0\n",
              "tahun_lahir         0\n",
              "visit_time          0\n",
              "test_drive_brand    0\n",
              "vehicle             0\n",
              "kategori            0\n",
              "dtype: int64"
            ]
          },
          "metadata": {},
          "execution_count": 8
        }
      ],
      "source": [
        "df.isnull().sum()"
      ]
    },
    {
      "cell_type": "markdown",
      "metadata": {
        "id": "EBT-AR0W7cUQ"
      },
      "source": [
        "### Add Column"
      ]
    },
    {
      "cell_type": "markdown",
      "metadata": {
        "id": "vA8Ra04EkwEu"
      },
      "source": [
        "Menambahkan kolom usia"
      ]
    },
    {
      "cell_type": "code",
      "execution_count": null,
      "metadata": {
        "id": "dqasFfsjv-5P"
      },
      "outputs": [],
      "source": [
        "#menambahkan kolom usia\n",
        "from datetime import datetime, date\n",
        "\n",
        "df[\"Usia\"] = date.today().year - df[\"tahun_lahir\"];\n"
      ]
    },
    {
      "cell_type": "markdown",
      "metadata": {
        "id": "0vJmRXFTk-AM"
      },
      "source": [
        "Membuat kategori umur"
      ]
    },
    {
      "cell_type": "code",
      "execution_count": null,
      "metadata": {
        "id": "60wNG2Cmv-5P"
      },
      "outputs": [],
      "source": [
        "# membuat kategori umur\n",
        "\n",
        "def range_usia(x):\n",
        "    if x < 18:\n",
        "        return '<18'\n",
        "    elif x >= 18 and x <= 24:\n",
        "        return '18-24'\n",
        "    elif x >= 25 and x <= 34:\n",
        "        return '25-34'\n",
        "    elif x >= 35 and x <= 44:\n",
        "        return '35-44'\n",
        "    elif x >= 45 and x <= 54:\n",
        "        return '45-54'\n",
        "    elif x >= 55 and x <= 64:\n",
        "        return '55-64'\n",
        "    elif x > 64:\n",
        "        return '>64'\n",
        "\n",
        "df['kategori_usia'] = df['Usia'].apply(range_usia)"
      ]
    },
    {
      "cell_type": "code",
      "execution_count": null,
      "metadata": {
        "colab": {
          "base_uri": "https://localhost:8080/",
          "height": 205
        },
        "id": "HP_yBY9qv-5P",
        "outputId": "2a3db0ee-4ecb-4a00-c58e-cd9a497159e8"
      },
      "outputs": [
        {
          "output_type": "execute_result",
          "data": {
            "text/html": [
              "\n",
              "  <div id=\"df-33758991-c7d2-4e50-b47f-e5bbf3c6dc0f\">\n",
              "    <div class=\"colab-df-container\">\n",
              "      <div>\n",
              "<style scoped>\n",
              "    .dataframe tbody tr th:only-of-type {\n",
              "        vertical-align: middle;\n",
              "    }\n",
              "\n",
              "    .dataframe tbody tr th {\n",
              "        vertical-align: top;\n",
              "    }\n",
              "\n",
              "    .dataframe thead th {\n",
              "        text-align: right;\n",
              "    }\n",
              "</style>\n",
              "<table border=\"1\" class=\"dataframe\">\n",
              "  <thead>\n",
              "    <tr style=\"text-align: right;\">\n",
              "      <th></th>\n",
              "      <th>id_ticket</th>\n",
              "      <th>provinsi</th>\n",
              "      <th>kota</th>\n",
              "      <th>gender</th>\n",
              "      <th>tahun_lahir</th>\n",
              "      <th>visit_time</th>\n",
              "      <th>test_drive_brand</th>\n",
              "      <th>vehicle</th>\n",
              "      <th>kategori</th>\n",
              "      <th>Usia</th>\n",
              "      <th>kategori_usia</th>\n",
              "    </tr>\n",
              "  </thead>\n",
              "  <tbody>\n",
              "    <tr>\n",
              "      <th>0</th>\n",
              "      <td>1</td>\n",
              "      <td>DKI Jakarta</td>\n",
              "      <td>Jakarta Selatan</td>\n",
              "      <td>Male</td>\n",
              "      <td>2001.0</td>\n",
              "      <td>2021-11-15 14:00:00</td>\n",
              "      <td>Isuzu Indonesia</td>\n",
              "      <td>MU-X 4x4</td>\n",
              "      <td>Crossover SUV</td>\n",
              "      <td>20.0</td>\n",
              "      <td>18-24</td>\n",
              "    </tr>\n",
              "    <tr>\n",
              "      <th>1</th>\n",
              "      <td>2</td>\n",
              "      <td>Banten</td>\n",
              "      <td>Tangerang Selatan</td>\n",
              "      <td>Male</td>\n",
              "      <td>1999.0</td>\n",
              "      <td>2021-11-14 11:00:00</td>\n",
              "      <td>Mazda Indonesia</td>\n",
              "      <td>CX-3</td>\n",
              "      <td>Subcompact crossover SUV</td>\n",
              "      <td>22.0</td>\n",
              "      <td>18-24</td>\n",
              "    </tr>\n",
              "    <tr>\n",
              "      <th>2</th>\n",
              "      <td>3</td>\n",
              "      <td>Banten</td>\n",
              "      <td>Tangerang, Kab.</td>\n",
              "      <td>Female</td>\n",
              "      <td>1989.0</td>\n",
              "      <td>2021-11-12 14:00:00</td>\n",
              "      <td>Honda</td>\n",
              "      <td>CR-V</td>\n",
              "      <td>crossover SUV</td>\n",
              "      <td>32.0</td>\n",
              "      <td>25-34</td>\n",
              "    </tr>\n",
              "    <tr>\n",
              "      <th>3</th>\n",
              "      <td>4</td>\n",
              "      <td>DKI Jakarta</td>\n",
              "      <td>Jakarta Selatan</td>\n",
              "      <td>Male</td>\n",
              "      <td>2002.0</td>\n",
              "      <td>2021-11-21 11:00:00</td>\n",
              "      <td>Hyundai Indonesia</td>\n",
              "      <td>STARIA</td>\n",
              "      <td>Minivan</td>\n",
              "      <td>19.0</td>\n",
              "      <td>18-24</td>\n",
              "    </tr>\n",
              "    <tr>\n",
              "      <th>4</th>\n",
              "      <td>5</td>\n",
              "      <td>Jawa Barat</td>\n",
              "      <td>Bekasi, Kab.</td>\n",
              "      <td>Male</td>\n",
              "      <td>1998.0</td>\n",
              "      <td>2021-11-16 11:00:00</td>\n",
              "      <td>KIA</td>\n",
              "      <td>GRAND CARNIVAL</td>\n",
              "      <td>Minivan</td>\n",
              "      <td>23.0</td>\n",
              "      <td>18-24</td>\n",
              "    </tr>\n",
              "  </tbody>\n",
              "</table>\n",
              "</div>\n",
              "      <button class=\"colab-df-convert\" onclick=\"convertToInteractive('df-33758991-c7d2-4e50-b47f-e5bbf3c6dc0f')\"\n",
              "              title=\"Convert this dataframe to an interactive table.\"\n",
              "              style=\"display:none;\">\n",
              "        \n",
              "  <svg xmlns=\"http://www.w3.org/2000/svg\" height=\"24px\"viewBox=\"0 0 24 24\"\n",
              "       width=\"24px\">\n",
              "    <path d=\"M0 0h24v24H0V0z\" fill=\"none\"/>\n",
              "    <path d=\"M18.56 5.44l.94 2.06.94-2.06 2.06-.94-2.06-.94-.94-2.06-.94 2.06-2.06.94zm-11 1L8.5 8.5l.94-2.06 2.06-.94-2.06-.94L8.5 2.5l-.94 2.06-2.06.94zm10 10l.94 2.06.94-2.06 2.06-.94-2.06-.94-.94-2.06-.94 2.06-2.06.94z\"/><path d=\"M17.41 7.96l-1.37-1.37c-.4-.4-.92-.59-1.43-.59-.52 0-1.04.2-1.43.59L10.3 9.45l-7.72 7.72c-.78.78-.78 2.05 0 2.83L4 21.41c.39.39.9.59 1.41.59.51 0 1.02-.2 1.41-.59l7.78-7.78 2.81-2.81c.8-.78.8-2.07 0-2.86zM5.41 20L4 18.59l7.72-7.72 1.47 1.35L5.41 20z\"/>\n",
              "  </svg>\n",
              "      </button>\n",
              "      \n",
              "  <style>\n",
              "    .colab-df-container {\n",
              "      display:flex;\n",
              "      flex-wrap:wrap;\n",
              "      gap: 12px;\n",
              "    }\n",
              "\n",
              "    .colab-df-convert {\n",
              "      background-color: #E8F0FE;\n",
              "      border: none;\n",
              "      border-radius: 50%;\n",
              "      cursor: pointer;\n",
              "      display: none;\n",
              "      fill: #1967D2;\n",
              "      height: 32px;\n",
              "      padding: 0 0 0 0;\n",
              "      width: 32px;\n",
              "    }\n",
              "\n",
              "    .colab-df-convert:hover {\n",
              "      background-color: #E2EBFA;\n",
              "      box-shadow: 0px 1px 2px rgba(60, 64, 67, 0.3), 0px 1px 3px 1px rgba(60, 64, 67, 0.15);\n",
              "      fill: #174EA6;\n",
              "    }\n",
              "\n",
              "    [theme=dark] .colab-df-convert {\n",
              "      background-color: #3B4455;\n",
              "      fill: #D2E3FC;\n",
              "    }\n",
              "\n",
              "    [theme=dark] .colab-df-convert:hover {\n",
              "      background-color: #434B5C;\n",
              "      box-shadow: 0px 1px 3px 1px rgba(0, 0, 0, 0.15);\n",
              "      filter: drop-shadow(0px 1px 2px rgba(0, 0, 0, 0.3));\n",
              "      fill: #FFFFFF;\n",
              "    }\n",
              "  </style>\n",
              "\n",
              "      <script>\n",
              "        const buttonEl =\n",
              "          document.querySelector('#df-33758991-c7d2-4e50-b47f-e5bbf3c6dc0f button.colab-df-convert');\n",
              "        buttonEl.style.display =\n",
              "          google.colab.kernel.accessAllowed ? 'block' : 'none';\n",
              "\n",
              "        async function convertToInteractive(key) {\n",
              "          const element = document.querySelector('#df-33758991-c7d2-4e50-b47f-e5bbf3c6dc0f');\n",
              "          const dataTable =\n",
              "            await google.colab.kernel.invokeFunction('convertToInteractive',\n",
              "                                                     [key], {});\n",
              "          if (!dataTable) return;\n",
              "\n",
              "          const docLinkHtml = 'Like what you see? Visit the ' +\n",
              "            '<a target=\"_blank\" href=https://colab.research.google.com/notebooks/data_table.ipynb>data table notebook</a>'\n",
              "            + ' to learn more about interactive tables.';\n",
              "          element.innerHTML = '';\n",
              "          dataTable['output_type'] = 'display_data';\n",
              "          await google.colab.output.renderOutput(dataTable, element);\n",
              "          const docLink = document.createElement('div');\n",
              "          docLink.innerHTML = docLinkHtml;\n",
              "          element.appendChild(docLink);\n",
              "        }\n",
              "      </script>\n",
              "    </div>\n",
              "  </div>\n",
              "  "
            ],
            "text/plain": [
              "   id_ticket     provinsi  ...  Usia kategori_usia\n",
              "0          1  DKI Jakarta  ...  20.0         18-24\n",
              "1          2       Banten  ...  22.0         18-24\n",
              "2          3       Banten  ...  32.0         25-34\n",
              "3          4  DKI Jakarta  ...  19.0         18-24\n",
              "4          5   Jawa Barat  ...  23.0         18-24\n",
              "\n",
              "[5 rows x 11 columns]"
            ]
          },
          "metadata": {},
          "execution_count": 11
        }
      ],
      "source": [
        "df.head()"
      ]
    },
    {
      "cell_type": "code",
      "execution_count": null,
      "metadata": {
        "id": "B8bDWLSTv-5Q"
      },
      "outputs": [],
      "source": [
        "#df.apply(lambda x: x.astype(str).str.lower())\n",
        "df['kategori'] = df['kategori'].str.lower()"
      ]
    },
    {
      "cell_type": "code",
      "execution_count": null,
      "metadata": {
        "id": "Xpas2mOkv-5Q"
      },
      "outputs": [],
      "source": [
        "df['kategori'].replace({'crossover suv' : 'SUV','subcompact crossover suv' : 'SUV','full-size crossover suv' : 'SUV'},inplace=True) # SUV\n",
        "df['kategori'].replace({'minivan': 'Minivan'},inplace=True) # Minivan\n",
        "df['kategori'].replace({'small hatchback': 'hatchback','medium hatchback': 'hatchback','wagon': 'hatchback','compact car': 'hatchback'},inplace=True) # Hatchback\n",
        "df['kategori'].replace({'mpv': 'MPV'},inplace=True) # Hatchback\n",
        "df['kategori'].replace({'compact pickup': 'Pickup'},inplace=True) # Pickup"
      ]
    },
    {
      "cell_type": "code",
      "execution_count": null,
      "metadata": {
        "id": "zCZne6C3mBBE"
      },
      "outputs": [],
      "source": [
        "# membuat kategori Pulau\n",
        "\n",
        "def pulau(x):  \n",
        "    if x == 'DKI Jakarta' or x == 'Jawa Barat' or x == 'Banten' or x == 'Jawa Tengah' or x == 'Jawa Timur' or x == 'DI Yogyakarta':\n",
        "        return 'Jawa'\n",
        "    elif x == 'Bali':             \n",
        "        return 'Bali'              \n",
        "    elif x == 'Lampung' or x == 'Aceh' or x == 'Sumatera Utara' or x == 'Sumatera Selatan' or x == 'Riau' or x == 'Bangka Belitung' or x == 'Kepulauan Riau' or x == 'Sumatera Barat' or x == 'Bengkulu' or x == 'Jambi':      \n",
        "        return 'Sumatra'      \n",
        "    elif x == 'Sulawesi Selatan' or x == 'Sulawesi Tenggara' or x == 'Sulawesi Tenggara' or x == 'Sulawesi Utara':   \n",
        "        return 'Sulawesi'    \n",
        "    elif x == 'Kalimantan Timur' or x == 'Kalimantan Barat' or x == 'Kalimantan Selatan':   \n",
        "        return 'kalimantan'\n",
        "    elif x == 'Nusa Tenggara Timur':   \n",
        "        return 'Kepulauan Nusa Tenggara'\n",
        "    elif x == 'Maluku Utara' or x == 'Maluku':   \n",
        "        return 'Kepulauan Maluku'\n",
        "    elif x == 'Papua Barat':   \n",
        "        return 'Papua'\n",
        "\n",
        "df['pulau'] = df['provinsi'].apply(pulau)"
      ]
    },
    {
      "cell_type": "code",
      "execution_count": null,
      "metadata": {
        "colab": {
          "base_uri": "https://localhost:8080/",
          "height": 362
        },
        "id": "1JZ3UxvDv-5Q",
        "outputId": "6569b5dd-85cc-4378-e6bc-0ba8c98fc922"
      },
      "outputs": [
        {
          "output_type": "execute_result",
          "data": {
            "text/html": [
              "\n",
              "  <div id=\"df-13207e84-d74c-474c-8834-f151fb5aa960\">\n",
              "    <div class=\"colab-df-container\">\n",
              "      <div>\n",
              "<style scoped>\n",
              "    .dataframe tbody tr th:only-of-type {\n",
              "        vertical-align: middle;\n",
              "    }\n",
              "\n",
              "    .dataframe tbody tr th {\n",
              "        vertical-align: top;\n",
              "    }\n",
              "\n",
              "    .dataframe thead th {\n",
              "        text-align: right;\n",
              "    }\n",
              "</style>\n",
              "<table border=\"1\" class=\"dataframe\">\n",
              "  <thead>\n",
              "    <tr style=\"text-align: right;\">\n",
              "      <th></th>\n",
              "      <th>id_ticket</th>\n",
              "      <th>provinsi</th>\n",
              "      <th>kota</th>\n",
              "      <th>gender</th>\n",
              "      <th>tahun_lahir</th>\n",
              "      <th>visit_time</th>\n",
              "      <th>test_drive_brand</th>\n",
              "      <th>vehicle</th>\n",
              "      <th>kategori</th>\n",
              "      <th>Usia</th>\n",
              "      <th>kategori_usia</th>\n",
              "      <th>pulau</th>\n",
              "    </tr>\n",
              "  </thead>\n",
              "  <tbody>\n",
              "    <tr>\n",
              "      <th>0</th>\n",
              "      <td>1</td>\n",
              "      <td>DKI Jakarta</td>\n",
              "      <td>Jakarta Selatan</td>\n",
              "      <td>Male</td>\n",
              "      <td>2001.0</td>\n",
              "      <td>2021-11-15 14:00:00</td>\n",
              "      <td>Isuzu Indonesia</td>\n",
              "      <td>MU-X 4x4</td>\n",
              "      <td>SUV</td>\n",
              "      <td>20.0</td>\n",
              "      <td>18-24</td>\n",
              "      <td>Jawa</td>\n",
              "    </tr>\n",
              "    <tr>\n",
              "      <th>1</th>\n",
              "      <td>2</td>\n",
              "      <td>Banten</td>\n",
              "      <td>Tangerang Selatan</td>\n",
              "      <td>Male</td>\n",
              "      <td>1999.0</td>\n",
              "      <td>2021-11-14 11:00:00</td>\n",
              "      <td>Mazda Indonesia</td>\n",
              "      <td>CX-3</td>\n",
              "      <td>SUV</td>\n",
              "      <td>22.0</td>\n",
              "      <td>18-24</td>\n",
              "      <td>Jawa</td>\n",
              "    </tr>\n",
              "    <tr>\n",
              "      <th>2</th>\n",
              "      <td>3</td>\n",
              "      <td>Banten</td>\n",
              "      <td>Tangerang, Kab.</td>\n",
              "      <td>Female</td>\n",
              "      <td>1989.0</td>\n",
              "      <td>2021-11-12 14:00:00</td>\n",
              "      <td>Honda</td>\n",
              "      <td>CR-V</td>\n",
              "      <td>SUV</td>\n",
              "      <td>32.0</td>\n",
              "      <td>25-34</td>\n",
              "      <td>Jawa</td>\n",
              "    </tr>\n",
              "    <tr>\n",
              "      <th>3</th>\n",
              "      <td>4</td>\n",
              "      <td>DKI Jakarta</td>\n",
              "      <td>Jakarta Selatan</td>\n",
              "      <td>Male</td>\n",
              "      <td>2002.0</td>\n",
              "      <td>2021-11-21 11:00:00</td>\n",
              "      <td>Hyundai Indonesia</td>\n",
              "      <td>STARIA</td>\n",
              "      <td>Minivan</td>\n",
              "      <td>19.0</td>\n",
              "      <td>18-24</td>\n",
              "      <td>Jawa</td>\n",
              "    </tr>\n",
              "    <tr>\n",
              "      <th>4</th>\n",
              "      <td>5</td>\n",
              "      <td>Jawa Barat</td>\n",
              "      <td>Bekasi, Kab.</td>\n",
              "      <td>Male</td>\n",
              "      <td>1998.0</td>\n",
              "      <td>2021-11-16 11:00:00</td>\n",
              "      <td>KIA</td>\n",
              "      <td>GRAND CARNIVAL</td>\n",
              "      <td>Minivan</td>\n",
              "      <td>23.0</td>\n",
              "      <td>18-24</td>\n",
              "      <td>Jawa</td>\n",
              "    </tr>\n",
              "    <tr>\n",
              "      <th>5</th>\n",
              "      <td>6</td>\n",
              "      <td>DKI Jakarta</td>\n",
              "      <td>Jakarta Timur</td>\n",
              "      <td>Male</td>\n",
              "      <td>1998.0</td>\n",
              "      <td>2021-11-15 14:00:00</td>\n",
              "      <td>Morris Garages</td>\n",
              "      <td>MG HS I-SMART</td>\n",
              "      <td>SUV</td>\n",
              "      <td>23.0</td>\n",
              "      <td>18-24</td>\n",
              "      <td>Jawa</td>\n",
              "    </tr>\n",
              "    <tr>\n",
              "      <th>6</th>\n",
              "      <td>7</td>\n",
              "      <td>Jawa Barat</td>\n",
              "      <td>Bandung, Kab.</td>\n",
              "      <td>Male</td>\n",
              "      <td>1992.0</td>\n",
              "      <td>2021-11-14 14:00:00</td>\n",
              "      <td>Morris Garages</td>\n",
              "      <td>MG ZS EV</td>\n",
              "      <td>SUV</td>\n",
              "      <td>29.0</td>\n",
              "      <td>25-34</td>\n",
              "      <td>Jawa</td>\n",
              "    </tr>\n",
              "    <tr>\n",
              "      <th>7</th>\n",
              "      <td>8</td>\n",
              "      <td>DKI Jakarta</td>\n",
              "      <td>Jakarta Timur</td>\n",
              "      <td>Female</td>\n",
              "      <td>1964.0</td>\n",
              "      <td>2021-11-16 17:00:00</td>\n",
              "      <td>Wuling Indonesia</td>\n",
              "      <td>ALMAZ RS PRO</td>\n",
              "      <td>SUV</td>\n",
              "      <td>57.0</td>\n",
              "      <td>55-64</td>\n",
              "      <td>Jawa</td>\n",
              "    </tr>\n",
              "    <tr>\n",
              "      <th>8</th>\n",
              "      <td>9</td>\n",
              "      <td>Banten</td>\n",
              "      <td>Cilegon</td>\n",
              "      <td>Female</td>\n",
              "      <td>1987.0</td>\n",
              "      <td>2021-11-20 14:00:00</td>\n",
              "      <td>Mazda Indonesia</td>\n",
              "      <td>CX-9</td>\n",
              "      <td>SUV</td>\n",
              "      <td>34.0</td>\n",
              "      <td>25-34</td>\n",
              "      <td>Jawa</td>\n",
              "    </tr>\n",
              "    <tr>\n",
              "      <th>9</th>\n",
              "      <td>11</td>\n",
              "      <td>DKI Jakarta</td>\n",
              "      <td>Jakarta Selatan</td>\n",
              "      <td>Male</td>\n",
              "      <td>1995.0</td>\n",
              "      <td>2021-11-16 17:00:00</td>\n",
              "      <td>Mazda Indonesia</td>\n",
              "      <td>CX-9</td>\n",
              "      <td>SUV</td>\n",
              "      <td>26.0</td>\n",
              "      <td>25-34</td>\n",
              "      <td>Jawa</td>\n",
              "    </tr>\n",
              "  </tbody>\n",
              "</table>\n",
              "</div>\n",
              "      <button class=\"colab-df-convert\" onclick=\"convertToInteractive('df-13207e84-d74c-474c-8834-f151fb5aa960')\"\n",
              "              title=\"Convert this dataframe to an interactive table.\"\n",
              "              style=\"display:none;\">\n",
              "        \n",
              "  <svg xmlns=\"http://www.w3.org/2000/svg\" height=\"24px\"viewBox=\"0 0 24 24\"\n",
              "       width=\"24px\">\n",
              "    <path d=\"M0 0h24v24H0V0z\" fill=\"none\"/>\n",
              "    <path d=\"M18.56 5.44l.94 2.06.94-2.06 2.06-.94-2.06-.94-.94-2.06-.94 2.06-2.06.94zm-11 1L8.5 8.5l.94-2.06 2.06-.94-2.06-.94L8.5 2.5l-.94 2.06-2.06.94zm10 10l.94 2.06.94-2.06 2.06-.94-2.06-.94-.94-2.06-.94 2.06-2.06.94z\"/><path d=\"M17.41 7.96l-1.37-1.37c-.4-.4-.92-.59-1.43-.59-.52 0-1.04.2-1.43.59L10.3 9.45l-7.72 7.72c-.78.78-.78 2.05 0 2.83L4 21.41c.39.39.9.59 1.41.59.51 0 1.02-.2 1.41-.59l7.78-7.78 2.81-2.81c.8-.78.8-2.07 0-2.86zM5.41 20L4 18.59l7.72-7.72 1.47 1.35L5.41 20z\"/>\n",
              "  </svg>\n",
              "      </button>\n",
              "      \n",
              "  <style>\n",
              "    .colab-df-container {\n",
              "      display:flex;\n",
              "      flex-wrap:wrap;\n",
              "      gap: 12px;\n",
              "    }\n",
              "\n",
              "    .colab-df-convert {\n",
              "      background-color: #E8F0FE;\n",
              "      border: none;\n",
              "      border-radius: 50%;\n",
              "      cursor: pointer;\n",
              "      display: none;\n",
              "      fill: #1967D2;\n",
              "      height: 32px;\n",
              "      padding: 0 0 0 0;\n",
              "      width: 32px;\n",
              "    }\n",
              "\n",
              "    .colab-df-convert:hover {\n",
              "      background-color: #E2EBFA;\n",
              "      box-shadow: 0px 1px 2px rgba(60, 64, 67, 0.3), 0px 1px 3px 1px rgba(60, 64, 67, 0.15);\n",
              "      fill: #174EA6;\n",
              "    }\n",
              "\n",
              "    [theme=dark] .colab-df-convert {\n",
              "      background-color: #3B4455;\n",
              "      fill: #D2E3FC;\n",
              "    }\n",
              "\n",
              "    [theme=dark] .colab-df-convert:hover {\n",
              "      background-color: #434B5C;\n",
              "      box-shadow: 0px 1px 3px 1px rgba(0, 0, 0, 0.15);\n",
              "      filter: drop-shadow(0px 1px 2px rgba(0, 0, 0, 0.3));\n",
              "      fill: #FFFFFF;\n",
              "    }\n",
              "  </style>\n",
              "\n",
              "      <script>\n",
              "        const buttonEl =\n",
              "          document.querySelector('#df-13207e84-d74c-474c-8834-f151fb5aa960 button.colab-df-convert');\n",
              "        buttonEl.style.display =\n",
              "          google.colab.kernel.accessAllowed ? 'block' : 'none';\n",
              "\n",
              "        async function convertToInteractive(key) {\n",
              "          const element = document.querySelector('#df-13207e84-d74c-474c-8834-f151fb5aa960');\n",
              "          const dataTable =\n",
              "            await google.colab.kernel.invokeFunction('convertToInteractive',\n",
              "                                                     [key], {});\n",
              "          if (!dataTable) return;\n",
              "\n",
              "          const docLinkHtml = 'Like what you see? Visit the ' +\n",
              "            '<a target=\"_blank\" href=https://colab.research.google.com/notebooks/data_table.ipynb>data table notebook</a>'\n",
              "            + ' to learn more about interactive tables.';\n",
              "          element.innerHTML = '';\n",
              "          dataTable['output_type'] = 'display_data';\n",
              "          await google.colab.output.renderOutput(dataTable, element);\n",
              "          const docLink = document.createElement('div');\n",
              "          docLink.innerHTML = docLinkHtml;\n",
              "          element.appendChild(docLink);\n",
              "        }\n",
              "      </script>\n",
              "    </div>\n",
              "  </div>\n",
              "  "
            ],
            "text/plain": [
              "   id_ticket     provinsi               kota  ...  Usia  kategori_usia pulau\n",
              "0          1  DKI Jakarta    Jakarta Selatan  ...  20.0          18-24  Jawa\n",
              "1          2       Banten  Tangerang Selatan  ...  22.0          18-24  Jawa\n",
              "2          3       Banten    Tangerang, Kab.  ...  32.0          25-34  Jawa\n",
              "3          4  DKI Jakarta    Jakarta Selatan  ...  19.0          18-24  Jawa\n",
              "4          5   Jawa Barat       Bekasi, Kab.  ...  23.0          18-24  Jawa\n",
              "5          6  DKI Jakarta      Jakarta Timur  ...  23.0          18-24  Jawa\n",
              "6          7   Jawa Barat      Bandung, Kab.  ...  29.0          25-34  Jawa\n",
              "7          8  DKI Jakarta      Jakarta Timur  ...  57.0          55-64  Jawa\n",
              "8          9       Banten            Cilegon  ...  34.0          25-34  Jawa\n",
              "9         11  DKI Jakarta    Jakarta Selatan  ...  26.0          25-34  Jawa\n",
              "\n",
              "[10 rows x 12 columns]"
            ]
          },
          "metadata": {},
          "execution_count": 15
        }
      ],
      "source": [
        "df.head(10)"
      ]
    },
    {
      "cell_type": "code",
      "execution_count": null,
      "metadata": {
        "colab": {
          "base_uri": "https://localhost:8080/"
        },
        "id": "-9b68MYHv-5R",
        "outputId": "cb2171aa-f58e-4eeb-d581-c92d5f8a69fa"
      },
      "outputs": [
        {
          "output_type": "execute_result",
          "data": {
            "text/plain": [
              "(15478, 12)"
            ]
          },
          "metadata": {},
          "execution_count": 16
        }
      ],
      "source": [
        "df.shape"
      ]
    },
    {
      "cell_type": "code",
      "execution_count": null,
      "metadata": {
        "colab": {
          "base_uri": "https://localhost:8080/"
        },
        "id": "QG1XuSFNv-5R",
        "outputId": "3dc66723-907f-49ba-9ada-e873379ffff3"
      },
      "outputs": [
        {
          "output_type": "execute_result",
          "data": {
            "text/plain": [
              "id_ticket                    int64\n",
              "provinsi                    object\n",
              "kota                        object\n",
              "gender                      object\n",
              "tahun_lahir                float64\n",
              "visit_time          datetime64[ns]\n",
              "test_drive_brand            object\n",
              "vehicle                     object\n",
              "kategori                    object\n",
              "Usia                       float64\n",
              "kategori_usia               object\n",
              "pulau                       object\n",
              "dtype: object"
            ]
          },
          "metadata": {},
          "execution_count": 17
        }
      ],
      "source": [
        "df.dtypes"
      ]
    },
    {
      "cell_type": "markdown",
      "metadata": {
        "id": "6JikVgMhmNj8"
      },
      "source": [
        "membagi kategori menjadi 2 group adalah <code>sport</code> dan <code>non-sport</code>"
      ]
    },
    {
      "cell_type": "code",
      "execution_count": null,
      "metadata": {
        "id": "CTx0MCy8p3aM"
      },
      "outputs": [],
      "source": [
        "def change_group(x):\n",
        "    if x == 'SUV':\n",
        "        return 'sport'\n",
        "    else:\n",
        "        return 'non-sport'\n",
        "\n",
        "df['group'] = df['kategori'].apply(change_group)"
      ]
    },
    {
      "cell_type": "code",
      "execution_count": null,
      "metadata": {
        "colab": {
          "base_uri": "https://localhost:8080/",
          "height": 205
        },
        "id": "vhiaEoQJmR11",
        "outputId": "aaae781e-1089-4808-ab45-167aae908c64"
      },
      "outputs": [
        {
          "output_type": "execute_result",
          "data": {
            "text/html": [
              "\n",
              "  <div id=\"df-9a3cc29a-0bac-4833-b64e-2ae2e622cd03\">\n",
              "    <div class=\"colab-df-container\">\n",
              "      <div>\n",
              "<style scoped>\n",
              "    .dataframe tbody tr th:only-of-type {\n",
              "        vertical-align: middle;\n",
              "    }\n",
              "\n",
              "    .dataframe tbody tr th {\n",
              "        vertical-align: top;\n",
              "    }\n",
              "\n",
              "    .dataframe thead th {\n",
              "        text-align: right;\n",
              "    }\n",
              "</style>\n",
              "<table border=\"1\" class=\"dataframe\">\n",
              "  <thead>\n",
              "    <tr style=\"text-align: right;\">\n",
              "      <th></th>\n",
              "      <th>id_ticket</th>\n",
              "      <th>provinsi</th>\n",
              "      <th>kota</th>\n",
              "      <th>gender</th>\n",
              "      <th>tahun_lahir</th>\n",
              "      <th>visit_time</th>\n",
              "      <th>test_drive_brand</th>\n",
              "      <th>vehicle</th>\n",
              "      <th>kategori</th>\n",
              "      <th>Usia</th>\n",
              "      <th>kategori_usia</th>\n",
              "      <th>pulau</th>\n",
              "      <th>group</th>\n",
              "    </tr>\n",
              "  </thead>\n",
              "  <tbody>\n",
              "    <tr>\n",
              "      <th>0</th>\n",
              "      <td>1</td>\n",
              "      <td>DKI Jakarta</td>\n",
              "      <td>Jakarta Selatan</td>\n",
              "      <td>Male</td>\n",
              "      <td>2001.0</td>\n",
              "      <td>2021-11-15 14:00:00</td>\n",
              "      <td>Isuzu Indonesia</td>\n",
              "      <td>MU-X 4x4</td>\n",
              "      <td>SUV</td>\n",
              "      <td>20.0</td>\n",
              "      <td>18-24</td>\n",
              "      <td>Jawa</td>\n",
              "      <td>sport</td>\n",
              "    </tr>\n",
              "    <tr>\n",
              "      <th>1</th>\n",
              "      <td>2</td>\n",
              "      <td>Banten</td>\n",
              "      <td>Tangerang Selatan</td>\n",
              "      <td>Male</td>\n",
              "      <td>1999.0</td>\n",
              "      <td>2021-11-14 11:00:00</td>\n",
              "      <td>Mazda Indonesia</td>\n",
              "      <td>CX-3</td>\n",
              "      <td>SUV</td>\n",
              "      <td>22.0</td>\n",
              "      <td>18-24</td>\n",
              "      <td>Jawa</td>\n",
              "      <td>sport</td>\n",
              "    </tr>\n",
              "    <tr>\n",
              "      <th>2</th>\n",
              "      <td>3</td>\n",
              "      <td>Banten</td>\n",
              "      <td>Tangerang, Kab.</td>\n",
              "      <td>Female</td>\n",
              "      <td>1989.0</td>\n",
              "      <td>2021-11-12 14:00:00</td>\n",
              "      <td>Honda</td>\n",
              "      <td>CR-V</td>\n",
              "      <td>SUV</td>\n",
              "      <td>32.0</td>\n",
              "      <td>25-34</td>\n",
              "      <td>Jawa</td>\n",
              "      <td>sport</td>\n",
              "    </tr>\n",
              "    <tr>\n",
              "      <th>3</th>\n",
              "      <td>4</td>\n",
              "      <td>DKI Jakarta</td>\n",
              "      <td>Jakarta Selatan</td>\n",
              "      <td>Male</td>\n",
              "      <td>2002.0</td>\n",
              "      <td>2021-11-21 11:00:00</td>\n",
              "      <td>Hyundai Indonesia</td>\n",
              "      <td>STARIA</td>\n",
              "      <td>Minivan</td>\n",
              "      <td>19.0</td>\n",
              "      <td>18-24</td>\n",
              "      <td>Jawa</td>\n",
              "      <td>non-sport</td>\n",
              "    </tr>\n",
              "    <tr>\n",
              "      <th>4</th>\n",
              "      <td>5</td>\n",
              "      <td>Jawa Barat</td>\n",
              "      <td>Bekasi, Kab.</td>\n",
              "      <td>Male</td>\n",
              "      <td>1998.0</td>\n",
              "      <td>2021-11-16 11:00:00</td>\n",
              "      <td>KIA</td>\n",
              "      <td>GRAND CARNIVAL</td>\n",
              "      <td>Minivan</td>\n",
              "      <td>23.0</td>\n",
              "      <td>18-24</td>\n",
              "      <td>Jawa</td>\n",
              "      <td>non-sport</td>\n",
              "    </tr>\n",
              "  </tbody>\n",
              "</table>\n",
              "</div>\n",
              "      <button class=\"colab-df-convert\" onclick=\"convertToInteractive('df-9a3cc29a-0bac-4833-b64e-2ae2e622cd03')\"\n",
              "              title=\"Convert this dataframe to an interactive table.\"\n",
              "              style=\"display:none;\">\n",
              "        \n",
              "  <svg xmlns=\"http://www.w3.org/2000/svg\" height=\"24px\"viewBox=\"0 0 24 24\"\n",
              "       width=\"24px\">\n",
              "    <path d=\"M0 0h24v24H0V0z\" fill=\"none\"/>\n",
              "    <path d=\"M18.56 5.44l.94 2.06.94-2.06 2.06-.94-2.06-.94-.94-2.06-.94 2.06-2.06.94zm-11 1L8.5 8.5l.94-2.06 2.06-.94-2.06-.94L8.5 2.5l-.94 2.06-2.06.94zm10 10l.94 2.06.94-2.06 2.06-.94-2.06-.94-.94-2.06-.94 2.06-2.06.94z\"/><path d=\"M17.41 7.96l-1.37-1.37c-.4-.4-.92-.59-1.43-.59-.52 0-1.04.2-1.43.59L10.3 9.45l-7.72 7.72c-.78.78-.78 2.05 0 2.83L4 21.41c.39.39.9.59 1.41.59.51 0 1.02-.2 1.41-.59l7.78-7.78 2.81-2.81c.8-.78.8-2.07 0-2.86zM5.41 20L4 18.59l7.72-7.72 1.47 1.35L5.41 20z\"/>\n",
              "  </svg>\n",
              "      </button>\n",
              "      \n",
              "  <style>\n",
              "    .colab-df-container {\n",
              "      display:flex;\n",
              "      flex-wrap:wrap;\n",
              "      gap: 12px;\n",
              "    }\n",
              "\n",
              "    .colab-df-convert {\n",
              "      background-color: #E8F0FE;\n",
              "      border: none;\n",
              "      border-radius: 50%;\n",
              "      cursor: pointer;\n",
              "      display: none;\n",
              "      fill: #1967D2;\n",
              "      height: 32px;\n",
              "      padding: 0 0 0 0;\n",
              "      width: 32px;\n",
              "    }\n",
              "\n",
              "    .colab-df-convert:hover {\n",
              "      background-color: #E2EBFA;\n",
              "      box-shadow: 0px 1px 2px rgba(60, 64, 67, 0.3), 0px 1px 3px 1px rgba(60, 64, 67, 0.15);\n",
              "      fill: #174EA6;\n",
              "    }\n",
              "\n",
              "    [theme=dark] .colab-df-convert {\n",
              "      background-color: #3B4455;\n",
              "      fill: #D2E3FC;\n",
              "    }\n",
              "\n",
              "    [theme=dark] .colab-df-convert:hover {\n",
              "      background-color: #434B5C;\n",
              "      box-shadow: 0px 1px 3px 1px rgba(0, 0, 0, 0.15);\n",
              "      filter: drop-shadow(0px 1px 2px rgba(0, 0, 0, 0.3));\n",
              "      fill: #FFFFFF;\n",
              "    }\n",
              "  </style>\n",
              "\n",
              "      <script>\n",
              "        const buttonEl =\n",
              "          document.querySelector('#df-9a3cc29a-0bac-4833-b64e-2ae2e622cd03 button.colab-df-convert');\n",
              "        buttonEl.style.display =\n",
              "          google.colab.kernel.accessAllowed ? 'block' : 'none';\n",
              "\n",
              "        async function convertToInteractive(key) {\n",
              "          const element = document.querySelector('#df-9a3cc29a-0bac-4833-b64e-2ae2e622cd03');\n",
              "          const dataTable =\n",
              "            await google.colab.kernel.invokeFunction('convertToInteractive',\n",
              "                                                     [key], {});\n",
              "          if (!dataTable) return;\n",
              "\n",
              "          const docLinkHtml = 'Like what you see? Visit the ' +\n",
              "            '<a target=\"_blank\" href=https://colab.research.google.com/notebooks/data_table.ipynb>data table notebook</a>'\n",
              "            + ' to learn more about interactive tables.';\n",
              "          element.innerHTML = '';\n",
              "          dataTable['output_type'] = 'display_data';\n",
              "          await google.colab.output.renderOutput(dataTable, element);\n",
              "          const docLink = document.createElement('div');\n",
              "          docLink.innerHTML = docLinkHtml;\n",
              "          element.appendChild(docLink);\n",
              "        }\n",
              "      </script>\n",
              "    </div>\n",
              "  </div>\n",
              "  "
            ],
            "text/plain": [
              "   id_ticket     provinsi               kota  ... kategori_usia  pulau      group\n",
              "0          1  DKI Jakarta    Jakarta Selatan  ...         18-24   Jawa      sport\n",
              "1          2       Banten  Tangerang Selatan  ...         18-24   Jawa      sport\n",
              "2          3       Banten    Tangerang, Kab.  ...         25-34   Jawa      sport\n",
              "3          4  DKI Jakarta    Jakarta Selatan  ...         18-24   Jawa  non-sport\n",
              "4          5   Jawa Barat       Bekasi, Kab.  ...         18-24   Jawa  non-sport\n",
              "\n",
              "[5 rows x 13 columns]"
            ]
          },
          "metadata": {},
          "execution_count": 19
        }
      ],
      "source": [
        "df.head()"
      ]
    },
    {
      "cell_type": "code",
      "execution_count": null,
      "metadata": {
        "colab": {
          "base_uri": "https://localhost:8080/",
          "height": 299
        },
        "id": "ntmndWGEvkRC",
        "outputId": "155514c7-be35-4fc2-a0bf-085b55d0cb42"
      },
      "outputs": [
        {
          "output_type": "execute_result",
          "data": {
            "text/html": [
              "\n",
              "  <div id=\"df-8c865af2-9127-41f7-abfc-7e36cc8054c6\">\n",
              "    <div class=\"colab-df-container\">\n",
              "      <div>\n",
              "<style scoped>\n",
              "    .dataframe tbody tr th:only-of-type {\n",
              "        vertical-align: middle;\n",
              "    }\n",
              "\n",
              "    .dataframe tbody tr th {\n",
              "        vertical-align: top;\n",
              "    }\n",
              "\n",
              "    .dataframe thead th {\n",
              "        text-align: right;\n",
              "    }\n",
              "</style>\n",
              "<table border=\"1\" class=\"dataframe\">\n",
              "  <thead>\n",
              "    <tr style=\"text-align: right;\">\n",
              "      <th></th>\n",
              "      <th>id_ticket</th>\n",
              "      <th>tahun_lahir</th>\n",
              "      <th>Usia</th>\n",
              "    </tr>\n",
              "  </thead>\n",
              "  <tbody>\n",
              "    <tr>\n",
              "      <th>count</th>\n",
              "      <td>15478.000000</td>\n",
              "      <td>15478.000000</td>\n",
              "      <td>15478.000000</td>\n",
              "    </tr>\n",
              "    <tr>\n",
              "      <th>mean</th>\n",
              "      <td>8585.434358</td>\n",
              "      <td>1987.961494</td>\n",
              "      <td>33.038506</td>\n",
              "    </tr>\n",
              "    <tr>\n",
              "      <th>std</th>\n",
              "      <td>4980.058233</td>\n",
              "      <td>12.085722</td>\n",
              "      <td>12.085722</td>\n",
              "    </tr>\n",
              "    <tr>\n",
              "      <th>min</th>\n",
              "      <td>1.000000</td>\n",
              "      <td>1877.000000</td>\n",
              "      <td>7.000000</td>\n",
              "    </tr>\n",
              "    <tr>\n",
              "      <th>25%</th>\n",
              "      <td>4276.250000</td>\n",
              "      <td>1981.000000</td>\n",
              "      <td>24.000000</td>\n",
              "    </tr>\n",
              "    <tr>\n",
              "      <th>50%</th>\n",
              "      <td>8569.500000</td>\n",
              "      <td>1991.000000</td>\n",
              "      <td>30.000000</td>\n",
              "    </tr>\n",
              "    <tr>\n",
              "      <th>75%</th>\n",
              "      <td>12863.750000</td>\n",
              "      <td>1997.000000</td>\n",
              "      <td>40.000000</td>\n",
              "    </tr>\n",
              "    <tr>\n",
              "      <th>max</th>\n",
              "      <td>17293.000000</td>\n",
              "      <td>2014.000000</td>\n",
              "      <td>144.000000</td>\n",
              "    </tr>\n",
              "  </tbody>\n",
              "</table>\n",
              "</div>\n",
              "      <button class=\"colab-df-convert\" onclick=\"convertToInteractive('df-8c865af2-9127-41f7-abfc-7e36cc8054c6')\"\n",
              "              title=\"Convert this dataframe to an interactive table.\"\n",
              "              style=\"display:none;\">\n",
              "        \n",
              "  <svg xmlns=\"http://www.w3.org/2000/svg\" height=\"24px\"viewBox=\"0 0 24 24\"\n",
              "       width=\"24px\">\n",
              "    <path d=\"M0 0h24v24H0V0z\" fill=\"none\"/>\n",
              "    <path d=\"M18.56 5.44l.94 2.06.94-2.06 2.06-.94-2.06-.94-.94-2.06-.94 2.06-2.06.94zm-11 1L8.5 8.5l.94-2.06 2.06-.94-2.06-.94L8.5 2.5l-.94 2.06-2.06.94zm10 10l.94 2.06.94-2.06 2.06-.94-2.06-.94-.94-2.06-.94 2.06-2.06.94z\"/><path d=\"M17.41 7.96l-1.37-1.37c-.4-.4-.92-.59-1.43-.59-.52 0-1.04.2-1.43.59L10.3 9.45l-7.72 7.72c-.78.78-.78 2.05 0 2.83L4 21.41c.39.39.9.59 1.41.59.51 0 1.02-.2 1.41-.59l7.78-7.78 2.81-2.81c.8-.78.8-2.07 0-2.86zM5.41 20L4 18.59l7.72-7.72 1.47 1.35L5.41 20z\"/>\n",
              "  </svg>\n",
              "      </button>\n",
              "      \n",
              "  <style>\n",
              "    .colab-df-container {\n",
              "      display:flex;\n",
              "      flex-wrap:wrap;\n",
              "      gap: 12px;\n",
              "    }\n",
              "\n",
              "    .colab-df-convert {\n",
              "      background-color: #E8F0FE;\n",
              "      border: none;\n",
              "      border-radius: 50%;\n",
              "      cursor: pointer;\n",
              "      display: none;\n",
              "      fill: #1967D2;\n",
              "      height: 32px;\n",
              "      padding: 0 0 0 0;\n",
              "      width: 32px;\n",
              "    }\n",
              "\n",
              "    .colab-df-convert:hover {\n",
              "      background-color: #E2EBFA;\n",
              "      box-shadow: 0px 1px 2px rgba(60, 64, 67, 0.3), 0px 1px 3px 1px rgba(60, 64, 67, 0.15);\n",
              "      fill: #174EA6;\n",
              "    }\n",
              "\n",
              "    [theme=dark] .colab-df-convert {\n",
              "      background-color: #3B4455;\n",
              "      fill: #D2E3FC;\n",
              "    }\n",
              "\n",
              "    [theme=dark] .colab-df-convert:hover {\n",
              "      background-color: #434B5C;\n",
              "      box-shadow: 0px 1px 3px 1px rgba(0, 0, 0, 0.15);\n",
              "      filter: drop-shadow(0px 1px 2px rgba(0, 0, 0, 0.3));\n",
              "      fill: #FFFFFF;\n",
              "    }\n",
              "  </style>\n",
              "\n",
              "      <script>\n",
              "        const buttonEl =\n",
              "          document.querySelector('#df-8c865af2-9127-41f7-abfc-7e36cc8054c6 button.colab-df-convert');\n",
              "        buttonEl.style.display =\n",
              "          google.colab.kernel.accessAllowed ? 'block' : 'none';\n",
              "\n",
              "        async function convertToInteractive(key) {\n",
              "          const element = document.querySelector('#df-8c865af2-9127-41f7-abfc-7e36cc8054c6');\n",
              "          const dataTable =\n",
              "            await google.colab.kernel.invokeFunction('convertToInteractive',\n",
              "                                                     [key], {});\n",
              "          if (!dataTable) return;\n",
              "\n",
              "          const docLinkHtml = 'Like what you see? Visit the ' +\n",
              "            '<a target=\"_blank\" href=https://colab.research.google.com/notebooks/data_table.ipynb>data table notebook</a>'\n",
              "            + ' to learn more about interactive tables.';\n",
              "          element.innerHTML = '';\n",
              "          dataTable['output_type'] = 'display_data';\n",
              "          await google.colab.output.renderOutput(dataTable, element);\n",
              "          const docLink = document.createElement('div');\n",
              "          docLink.innerHTML = docLinkHtml;\n",
              "          element.appendChild(docLink);\n",
              "        }\n",
              "      </script>\n",
              "    </div>\n",
              "  </div>\n",
              "  "
            ],
            "text/plain": [
              "          id_ticket   tahun_lahir          Usia\n",
              "count  15478.000000  15478.000000  15478.000000\n",
              "mean    8585.434358   1987.961494     33.038506\n",
              "std     4980.058233     12.085722     12.085722\n",
              "min        1.000000   1877.000000      7.000000\n",
              "25%     4276.250000   1981.000000     24.000000\n",
              "50%     8569.500000   1991.000000     30.000000\n",
              "75%    12863.750000   1997.000000     40.000000\n",
              "max    17293.000000   2014.000000    144.000000"
            ]
          },
          "metadata": {},
          "execution_count": 20
        }
      ],
      "source": [
        "df.describe()"
      ]
    },
    {
      "cell_type": "markdown",
      "metadata": {
        "id": "QmU8eHN7v-5R"
      },
      "source": [
        "<hr>"
      ]
    },
    {
      "cell_type": "markdown",
      "metadata": {
        "id": "ghkS92xmv-5R"
      },
      "source": [
        "## Preprocessing"
      ]
    },
    {
      "cell_type": "markdown",
      "metadata": {
        "id": "q5iFXNF6v-5S"
      },
      "source": [
        "Pertama kita akan melihat jumlah data untuk masing-masing kategori di kolom target, yaitu kolom <code>Kategori</code>, dengan menggunakan <code>value_counts()</code>."
      ]
    },
    {
      "cell_type": "code",
      "execution_count": null,
      "metadata": {
        "colab": {
          "base_uri": "https://localhost:8080/"
        },
        "id": "Z0sEHV7Yv-5S",
        "outputId": "a59b26eb-8b1e-4b80-e5fd-31e1535ace2a"
      },
      "outputs": [
        {
          "output_type": "execute_result",
          "data": {
            "text/plain": [
              "SUV          8909\n",
              "MPV          3759\n",
              "hatchback    1981\n",
              "Minivan       712\n",
              "Pickup        117\n",
              "Name: kategori, dtype: int64"
            ]
          },
          "metadata": {},
          "execution_count": 21
        }
      ],
      "source": [
        "# Menampilkan jumlah data pada masing-masing kategori pada kolom 'Kategori'\n",
        "\n",
        "df['kategori'].value_counts()"
      ]
    },
    {
      "cell_type": "markdown",
      "metadata": {
        "id": "2O2wL5uEv-5S"
      },
      "source": [
        "Kita juga dapat melihat jumlah data untuk masing-masing kategori pada kolom lainnya yang bertipe __object__ seperti <code>Test Drive Brand</code> dan <code>Vehicle</code>."
      ]
    },
    {
      "cell_type": "code",
      "execution_count": null,
      "metadata": {
        "colab": {
          "base_uri": "https://localhost:8080/"
        },
        "id": "tmhCo4_2v-5S",
        "outputId": "13851fac-881a-4a83-a9f0-149b53b849d1"
      },
      "outputs": [
        {
          "output_type": "execute_result",
          "data": {
            "text/plain": [
              "Hyundai Indonesia       3093\n",
              "Toyota                  1924\n",
              "Mitsubishi Motors       1622\n",
              "KIA                     1351\n",
              "Nissan Indonesia        1101\n",
              "Honda                   1080\n",
              "Morris Garages          1076\n",
              "Wuling Indonesia        1064\n",
              "Mazda Indonesia         1020\n",
              "Daihatsu Indonesia       987\n",
              "Isuzu Indonesia          406\n",
              "Volkswagen Indonesia     406\n",
              "Suzuki                   347\n",
              "AUDI Indonesia             1\n",
              "Name: test_drive_brand, dtype: int64"
            ]
          },
          "metadata": {},
          "execution_count": 22
        }
      ],
      "source": [
        "# Menampilkan jumlah data pada masing-masing kategori pada kolom 'Test Drive Brand'\n",
        "\n",
        "df['test_drive_brand'].value_counts()"
      ]
    },
    {
      "cell_type": "code",
      "execution_count": null,
      "metadata": {
        "colab": {
          "base_uri": "https://localhost:8080/"
        },
        "id": "fdrEqoZBv-5T",
        "outputId": "7bf06d2e-6086-49c7-faf5-3e9e511ecf09"
      },
      "outputs": [
        {
          "output_type": "execute_result",
          "data": {
            "text/plain": [
              "VELOZ                  1615\n",
              "KONA                    893\n",
              "PALISADE                885\n",
              "ALMAZ RS PRO            814\n",
              "XPANDER                 761\n",
              "CITY HATCHBACK          659\n",
              "ROCKY                   635\n",
              "IONIQ                   608\n",
              "ALL NEW NISSAN LEAF     594\n",
              "NEW PAJERO SPORT        521\n",
              "KICK E-POWER            470\n",
              "SONET                   436\n",
              "NEW MG ZS               424\n",
              "GRAND CARNIVAL          412\n",
              "SANTAFE                 407\n",
              "TIGUAN ALLSPACE         406\n",
              "CX-3                    391\n",
              "SELTOS CRDi             376\n",
              "XENIA                   351\n",
              "XPANDER CROSS           340\n",
              "MG HS I-SMART           336\n",
              "CX-5                    330\n",
              "MG ZS EV                316\n",
              "AVANZA                  309\n",
              "CR-V                    302\n",
              "STARIA                  300\n",
              "CX-9                    299\n",
              "MU-X 4x4                289\n",
              "XL 7                    215\n",
              "CORTEZ L LUX+           186\n",
              "ALL NEW ERTIGA          132\n",
              "SELTOS EXP              127\n",
              "BRIO                    119\n",
              "D-Max                   117\n",
              "CONFERO L LUX+           64\n",
              "MAGNITE                  37\n",
              "Xenia                     1\n",
              "Audi RS                   1\n",
              "Name: vehicle, dtype: int64"
            ]
          },
          "metadata": {},
          "execution_count": 23
        }
      ],
      "source": [
        "# Menampilkan jumlah data pada masing-masing kategori pada kolom 'Vehicle'\n",
        "\n",
        "df['vehicle'].value_counts()"
      ]
    },
    {
      "cell_type": "code",
      "execution_count": null,
      "metadata": {
        "colab": {
          "base_uri": "https://localhost:8080/"
        },
        "id": "95YPY4Y7v-5U",
        "outputId": "a3136ac1-d755-47bf-be95-c99374e5ccb2"
      },
      "outputs": [
        {
          "output_type": "execute_result",
          "data": {
            "text/plain": [
              "DKI Jakarta            6079\n",
              "Jawa Barat             4416\n",
              "Banten                 4245\n",
              "Jawa Tengah             255\n",
              "Jawa Timur              190\n",
              "DI Yogyakarta            65\n",
              "Bali                     38\n",
              "Lampung                  29\n",
              "Aceh                     21\n",
              "Sumatera Selatan         19\n",
              "Sulawesi Selatan         19\n",
              "Sumatera Utara           19\n",
              "Kalimantan Timur         15\n",
              "Riau                     11\n",
              "Bangka Belitung          10\n",
              "Nusa Tenggara Timur       8\n",
              "Kepulauan Riau            6\n",
              "Sumatera Barat            6\n",
              "Sulawesi Utara            5\n",
              "Maluku Utara              5\n",
              "Sulawesi Tenggara         5\n",
              "Kalimantan Barat          4\n",
              "Maluku                    4\n",
              "Bengkulu                  1\n",
              "Jambi                     1\n",
              "Papua Barat               1\n",
              "Kalimantan Selatan        1\n",
              "Name: provinsi, dtype: int64"
            ]
          },
          "metadata": {},
          "execution_count": 24
        }
      ],
      "source": [
        "# Menampilkan jumlah data pada masing-masing kategori pada kolom 'Vehicle'\n",
        "\n",
        "df['provinsi'].value_counts()"
      ]
    },
    {
      "cell_type": "markdown",
      "metadata": {
        "id": "suhdbGL2v-5U"
      },
      "source": [
        "Untuk kolom yang bertipe numerik seperti integer atau float, kita dapat memvisualisasikannya dengan histogram untuk melihat sebarannya."
      ]
    },
    {
      "cell_type": "markdown",
      "metadata": {
        "id": "LaxGwk7h1ATH"
      },
      "source": [
        "### Data Visualization"
      ]
    },
    {
      "cell_type": "markdown",
      "metadata": {
        "id": "axelCS_2v-5U"
      },
      "source": [
        "Sekarang mari kita visualisasikan kolom <code>Kategori</code> berdasarkan jenis kelaminnya."
      ]
    },
    {
      "cell_type": "code",
      "execution_count": null,
      "metadata": {
        "colab": {
          "base_uri": "https://localhost:8080/",
          "height": 461
        },
        "id": "CvmvKZ80v-5V",
        "outputId": "3f0d1040-6b10-4192-c785-f56eeebbf277"
      },
      "outputs": [
        {
          "output_type": "execute_result",
          "data": {
            "text/plain": [
              "<matplotlib.axes._subplots.AxesSubplot at 0x7fb905f91a10>"
            ]
          },
          "metadata": {},
          "execution_count": 25
        },
        {
          "output_type": "display_data",
          "data": {
            "image/png": "[encoded data removed]",
            "text/plain": [
              "<Figure size 864x504 with 1 Axes>"
            ]
          },
          "metadata": {
            "needs_background": "light"
          }
        }
      ],
      "source": [
        "# Visualisasi data dengan countplot \n",
        "plt.figure(figsize=(12,7))\n",
        "sns.countplot(x='kategori', hue='gender', data=df, palette='Set2' )"
      ]
    },
    {
      "cell_type": "markdown",
      "metadata": {
        "id": "jkut_Spqv-5V"
      },
      "source": [
        "Kita juga dapat dengan mudah membuat visualisasi kolom yang berisi nilai kategori berdasarkan kolom kategori lainnya. Misalnya disini kita menampilkan visualisasi kolom <code>Test Drive Brand</code> berdasarkan kolom <code>Jenis Kelamin</code>."
      ]
    },
    {
      "cell_type": "code",
      "execution_count": null,
      "metadata": {
        "colab": {
          "base_uri": "https://localhost:8080/",
          "height": 732
        },
        "id": "d7i6khNDv-5V",
        "outputId": "09719198-6e1b-4e97-994e-79c75d6fe5da"
      },
      "outputs": [
        {
          "output_type": "execute_result",
          "data": {
            "text/plain": [
              "<matplotlib.axes._subplots.AxesSubplot at 0x7fb906193390>"
            ]
          },
          "metadata": {},
          "execution_count": 26
        },
        {
          "output_type": "display_data",
          "data": {
            "image/png": "[encoded data removed]",
            "text/plain": [
              "<Figure size 2016x864 with 1 Axes>"
            ]
          },
          "metadata": {
            "needs_background": "light"
          }
        }
      ],
      "source": [
        "# Menampilkan visualisasi perbandingan jumlah data untuk tiap jenis 'Test Drive Brand' berdasarkan kolom 'Gender'\n",
        "plt.figure(figsize=(28,12))\n",
        "sns.countplot(x='test_drive_brand', hue='gender', data=df)"
      ]
    },
    {
      "cell_type": "markdown",
      "metadata": {
        "id": "FiyXIYfGv-5V"
      },
      "source": [
        "Visualisasi <code>Test Drive Brand</code> berdasarkan <code>Kategori</code>."
      ]
    },
    {
      "cell_type": "code",
      "execution_count": null,
      "metadata": {
        "colab": {
          "base_uri": "https://localhost:8080/",
          "height": 460
        },
        "id": "g3SL-XOhv-5W",
        "outputId": "f1b43b5b-c97c-444d-b9ff-ade4add6aa6f"
      },
      "outputs": [
        {
          "output_type": "execute_result",
          "data": {
            "text/plain": [
              "<matplotlib.axes._subplots.AxesSubplot at 0x7fb905f1c0d0>"
            ]
          },
          "metadata": {},
          "execution_count": 27
        },
        {
          "output_type": "display_data",
          "data": {
            "image/png": "[encoded data removed]",
            "text/plain": [
              "<Figure size 1800x504 with 1 Axes>"
            ]
          },
          "metadata": {
            "needs_background": "light"
          }
        }
      ],
      "source": [
        "plt.figure(figsize=(25,7))\n",
        "sns.countplot(x='test_drive_brand', hue='kategori', data=df, palette='coolwarm')"
      ]
    },
    {
      "cell_type": "markdown",
      "metadata": {
        "id": "1aev8AObv-5W"
      },
      "source": [
        "Visualisasi <code>Test Drive Brand</code> berdasarkan <code>Provinsi</code>."
      ]
    },
    {
      "cell_type": "code",
      "execution_count": null,
      "metadata": {
        "colab": {
          "base_uri": "https://localhost:8080/",
          "height": 597
        },
        "id": "xzOzpodXv-5W",
        "outputId": "16931772-649d-474d-c797-6d00df649f93"
      },
      "outputs": [
        {
          "output_type": "execute_result",
          "data": {
            "text/plain": [
              "<matplotlib.axes._subplots.AxesSubplot at 0x7fb90454ba90>"
            ]
          },
          "metadata": {},
          "execution_count": 28
        },
        {
          "output_type": "display_data",
          "data": {
            "image/png": "[encoded data removed]",
            "text/plain": [
              "<Figure size 2520x864 with 1 Axes>"
            ]
          },
          "metadata": {
            "needs_background": "light"
          }
        }
      ],
      "source": [
        "plt.figure(figsize=(35,12))\n",
        "sns.countplot(x='test_drive_brand', hue='provinsi', data=df, palette='Set2')"
      ]
    },
    {
      "cell_type": "markdown",
      "metadata": {
        "id": "FJoI_gKY6LKw"
      },
      "source": [
        "Visualisasi <code>Test Drive Brand</code> berdasarkan <code>Pulau</code>."
      ]
    },
    {
      "cell_type": "code",
      "execution_count": null,
      "metadata": {
        "colab": {
          "base_uri": "https://localhost:8080/",
          "height": 597
        },
        "id": "aCblHw8_JF91",
        "outputId": "523f622c-9067-4109-d57d-0dffb0529b00"
      },
      "outputs": [
        {
          "output_type": "execute_result",
          "data": {
            "text/plain": [
              "<matplotlib.axes._subplots.AxesSubplot at 0x7fb9040c9210>"
            ]
          },
          "metadata": {},
          "execution_count": 29
        },
        {
          "output_type": "display_data",
          "data": {
            "image/png": "[encoded data removed]",
            "text/plain": [
              "<Figure size 2520x864 with 1 Axes>"
            ]
          },
          "metadata": {
            "needs_background": "light"
          }
        }
      ],
      "source": [
        "plt.figure(figsize=(35,12))\n",
        "sns.countplot(x='test_drive_brand', hue='pulau', data=df, palette='Set2')"
      ]
    },
    {
      "cell_type": "markdown",
      "metadata": {
        "id": "cgp6j26vJBXM"
      },
      "source": [
        "Visualisasi Test Drive Brand berdasarkan Kategori Usia."
      ]
    },
    {
      "cell_type": "code",
      "execution_count": null,
      "metadata": {
        "colab": {
          "base_uri": "https://localhost:8080/",
          "height": 597
        },
        "id": "MzzWaMXk6gg8",
        "outputId": "74555104-4d07-44ee-aafb-74a637c2d05f"
      },
      "outputs": [
        {
          "output_type": "execute_result",
          "data": {
            "text/plain": [
              "<matplotlib.axes._subplots.AxesSubplot at 0x7fb904663c90>"
            ]
          },
          "metadata": {},
          "execution_count": 30
        },
        {
          "output_type": "display_data",
          "data": {
            "image/png": "[encoded data removed]",
            "text/plain": [
              "<Figure size 2520x864 with 1 Axes>"
            ]
          },
          "metadata": {
            "needs_background": "light"
          }
        }
      ],
      "source": [
        "plt.figure(figsize=(35,12))\n",
        "sns.countplot(x='test_drive_brand', hue='kategori_usia', data=df, palette='Set3')"
      ]
    },
    {
      "cell_type": "code",
      "execution_count": null,
      "metadata": {
        "colab": {
          "base_uri": "https://localhost:8080/",
          "height": 205
        },
        "id": "J5zG0BUcv-5W",
        "outputId": "8126b30f-8601-4f1a-e66b-edd95411d095"
      },
      "outputs": [
        {
          "output_type": "execute_result",
          "data": {
            "text/html": [
              "\n",
              "  <div id=\"df-08cc9ff1-b276-4ac5-8a01-8fad58de0a7f\">\n",
              "    <div class=\"colab-df-container\">\n",
              "      <div>\n",
              "<style scoped>\n",
              "    .dataframe tbody tr th:only-of-type {\n",
              "        vertical-align: middle;\n",
              "    }\n",
              "\n",
              "    .dataframe tbody tr th {\n",
              "        vertical-align: top;\n",
              "    }\n",
              "\n",
              "    .dataframe thead th {\n",
              "        text-align: right;\n",
              "    }\n",
              "</style>\n",
              "<table border=\"1\" class=\"dataframe\">\n",
              "  <thead>\n",
              "    <tr style=\"text-align: right;\">\n",
              "      <th></th>\n",
              "      <th>id_ticket</th>\n",
              "      <th>provinsi</th>\n",
              "      <th>kota</th>\n",
              "      <th>gender</th>\n",
              "      <th>tahun_lahir</th>\n",
              "      <th>visit_time</th>\n",
              "      <th>test_drive_brand</th>\n",
              "      <th>vehicle</th>\n",
              "      <th>kategori</th>\n",
              "      <th>Usia</th>\n",
              "      <th>kategori_usia</th>\n",
              "      <th>pulau</th>\n",
              "      <th>group</th>\n",
              "    </tr>\n",
              "  </thead>\n",
              "  <tbody>\n",
              "    <tr>\n",
              "      <th>0</th>\n",
              "      <td>1</td>\n",
              "      <td>DKI Jakarta</td>\n",
              "      <td>Jakarta Selatan</td>\n",
              "      <td>Male</td>\n",
              "      <td>2001.0</td>\n",
              "      <td>2021-11-15 14:00:00</td>\n",
              "      <td>Isuzu Indonesia</td>\n",
              "      <td>MU-X 4x4</td>\n",
              "      <td>SUV</td>\n",
              "      <td>20.0</td>\n",
              "      <td>18-24</td>\n",
              "      <td>Jawa</td>\n",
              "      <td>sport</td>\n",
              "    </tr>\n",
              "    <tr>\n",
              "      <th>1</th>\n",
              "      <td>2</td>\n",
              "      <td>Banten</td>\n",
              "      <td>Tangerang Selatan</td>\n",
              "      <td>Male</td>\n",
              "      <td>1999.0</td>\n",
              "      <td>2021-11-14 11:00:00</td>\n",
              "      <td>Mazda Indonesia</td>\n",
              "      <td>CX-3</td>\n",
              "      <td>SUV</td>\n",
              "      <td>22.0</td>\n",
              "      <td>18-24</td>\n",
              "      <td>Jawa</td>\n",
              "      <td>sport</td>\n",
              "    </tr>\n",
              "    <tr>\n",
              "      <th>2</th>\n",
              "      <td>3</td>\n",
              "      <td>Banten</td>\n",
              "      <td>Tangerang, Kab.</td>\n",
              "      <td>Female</td>\n",
              "      <td>1989.0</td>\n",
              "      <td>2021-11-12 14:00:00</td>\n",
              "      <td>Honda</td>\n",
              "      <td>CR-V</td>\n",
              "      <td>SUV</td>\n",
              "      <td>32.0</td>\n",
              "      <td>25-34</td>\n",
              "      <td>Jawa</td>\n",
              "      <td>sport</td>\n",
              "    </tr>\n",
              "    <tr>\n",
              "      <th>3</th>\n",
              "      <td>4</td>\n",
              "      <td>DKI Jakarta</td>\n",
              "      <td>Jakarta Selatan</td>\n",
              "      <td>Male</td>\n",
              "      <td>2002.0</td>\n",
              "      <td>2021-11-21 11:00:00</td>\n",
              "      <td>Hyundai Indonesia</td>\n",
              "      <td>STARIA</td>\n",
              "      <td>Minivan</td>\n",
              "      <td>19.0</td>\n",
              "      <td>18-24</td>\n",
              "      <td>Jawa</td>\n",
              "      <td>non-sport</td>\n",
              "    </tr>\n",
              "    <tr>\n",
              "      <th>4</th>\n",
              "      <td>5</td>\n",
              "      <td>Jawa Barat</td>\n",
              "      <td>Bekasi, Kab.</td>\n",
              "      <td>Male</td>\n",
              "      <td>1998.0</td>\n",
              "      <td>2021-11-16 11:00:00</td>\n",
              "      <td>KIA</td>\n",
              "      <td>GRAND CARNIVAL</td>\n",
              "      <td>Minivan</td>\n",
              "      <td>23.0</td>\n",
              "      <td>18-24</td>\n",
              "      <td>Jawa</td>\n",
              "      <td>non-sport</td>\n",
              "    </tr>\n",
              "  </tbody>\n",
              "</table>\n",
              "</div>\n",
              "      <button class=\"colab-df-convert\" onclick=\"convertToInteractive('df-08cc9ff1-b276-4ac5-8a01-8fad58de0a7f')\"\n",
              "              title=\"Convert this dataframe to an interactive table.\"\n",
              "              style=\"display:none;\">\n",
              "        \n",
              "  <svg xmlns=\"http://www.w3.org/2000/svg\" height=\"24px\"viewBox=\"0 0 24 24\"\n",
              "       width=\"24px\">\n",
              "    <path d=\"M0 0h24v24H0V0z\" fill=\"none\"/>\n",
              "    <path d=\"M18.56 5.44l.94 2.06.94-2.06 2.06-.94-2.06-.94-.94-2.06-.94 2.06-2.06.94zm-11 1L8.5 8.5l.94-2.06 2.06-.94-2.06-.94L8.5 2.5l-.94 2.06-2.06.94zm10 10l.94 2.06.94-2.06 2.06-.94-2.06-.94-.94-2.06-.94 2.06-2.06.94z\"/><path d=\"M17.41 7.96l-1.37-1.37c-.4-.4-.92-.59-1.43-.59-.52 0-1.04.2-1.43.59L10.3 9.45l-7.72 7.72c-.78.78-.78 2.05 0 2.83L4 21.41c.39.39.9.59 1.41.59.51 0 1.02-.2 1.41-.59l7.78-7.78 2.81-2.81c.8-.78.8-2.07 0-2.86zM5.41 20L4 18.59l7.72-7.72 1.47 1.35L5.41 20z\"/>\n",
              "  </svg>\n",
              "      </button>\n",
              "      \n",
              "  <style>\n",
              "    .colab-df-container {\n",
              "      display:flex;\n",
              "      flex-wrap:wrap;\n",
              "      gap: 12px;\n",
              "    }\n",
              "\n",
              "    .colab-df-convert {\n",
              "      background-color: #E8F0FE;\n",
              "      border: none;\n",
              "      border-radius: 50%;\n",
              "      cursor: pointer;\n",
              "      display: none;\n",
              "      fill: #1967D2;\n",
              "      height: 32px;\n",
              "      padding: 0 0 0 0;\n",
              "      width: 32px;\n",
              "    }\n",
              "\n",
              "    .colab-df-convert:hover {\n",
              "      background-color: #E2EBFA;\n",
              "      box-shadow: 0px 1px 2px rgba(60, 64, 67, 0.3), 0px 1px 3px 1px rgba(60, 64, 67, 0.15);\n",
              "      fill: #174EA6;\n",
              "    }\n",
              "\n",
              "    [theme=dark] .colab-df-convert {\n",
              "      background-color: #3B4455;\n",
              "      fill: #D2E3FC;\n",
              "    }\n",
              "\n",
              "    [theme=dark] .colab-df-convert:hover {\n",
              "      background-color: #434B5C;\n",
              "      box-shadow: 0px 1px 3px 1px rgba(0, 0, 0, 0.15);\n",
              "      filter: drop-shadow(0px 1px 2px rgba(0, 0, 0, 0.3));\n",
              "      fill: #FFFFFF;\n",
              "    }\n",
              "  </style>\n",
              "\n",
              "      <script>\n",
              "        const buttonEl =\n",
              "          document.querySelector('#df-08cc9ff1-b276-4ac5-8a01-8fad58de0a7f button.colab-df-convert');\n",
              "        buttonEl.style.display =\n",
              "          google.colab.kernel.accessAllowed ? 'block' : 'none';\n",
              "\n",
              "        async function convertToInteractive(key) {\n",
              "          const element = document.querySelector('#df-08cc9ff1-b276-4ac5-8a01-8fad58de0a7f');\n",
              "          const dataTable =\n",
              "            await google.colab.kernel.invokeFunction('convertToInteractive',\n",
              "                                                     [key], {});\n",
              "          if (!dataTable) return;\n",
              "\n",
              "          const docLinkHtml = 'Like what you see? Visit the ' +\n",
              "            '<a target=\"_blank\" href=https://colab.research.google.com/notebooks/data_table.ipynb>data table notebook</a>'\n",
              "            + ' to learn more about interactive tables.';\n",
              "          element.innerHTML = '';\n",
              "          dataTable['output_type'] = 'display_data';\n",
              "          await google.colab.output.renderOutput(dataTable, element);\n",
              "          const docLink = document.createElement('div');\n",
              "          docLink.innerHTML = docLinkHtml;\n",
              "          element.appendChild(docLink);\n",
              "        }\n",
              "      </script>\n",
              "    </div>\n",
              "  </div>\n",
              "  "
            ],
            "text/plain": [
              "   id_ticket     provinsi               kota  ... kategori_usia  pulau      group\n",
              "0          1  DKI Jakarta    Jakarta Selatan  ...         18-24   Jawa      sport\n",
              "1          2       Banten  Tangerang Selatan  ...         18-24   Jawa      sport\n",
              "2          3       Banten    Tangerang, Kab.  ...         25-34   Jawa      sport\n",
              "3          4  DKI Jakarta    Jakarta Selatan  ...         18-24   Jawa  non-sport\n",
              "4          5   Jawa Barat       Bekasi, Kab.  ...         18-24   Jawa  non-sport\n",
              "\n",
              "[5 rows x 13 columns]"
            ]
          },
          "metadata": {},
          "execution_count": 31
        }
      ],
      "source": [
        "df.head()"
      ]
    },
    {
      "cell_type": "markdown",
      "metadata": {
        "id": "19GX9j8F1dS5"
      },
      "source": [
        "### Data Transform"
      ]
    },
    {
      "cell_type": "code",
      "execution_count": null,
      "metadata": {
        "id": "g6aYM7YWnF8w"
      },
      "outputs": [],
      "source": [
        "df['group'].replace({'sport' : 1,'non-sport' : 0},inplace=True)"
      ]
    },
    {
      "cell_type": "code",
      "execution_count": null,
      "metadata": {
        "colab": {
          "base_uri": "https://localhost:8080/",
          "height": 205
        },
        "id": "y0jE8LlunIg1",
        "outputId": "013f1a8b-8cd7-4128-817b-ce6956592ce7"
      },
      "outputs": [
        {
          "output_type": "execute_result",
          "data": {
            "text/html": [
              "\n",
              "  <div id=\"df-cf0ebc0d-f3ba-48aa-866d-dbbdc788cfc7\">\n",
              "    <div class=\"colab-df-container\">\n",
              "      <div>\n",
              "<style scoped>\n",
              "    .dataframe tbody tr th:only-of-type {\n",
              "        vertical-align: middle;\n",
              "    }\n",
              "\n",
              "    .dataframe tbody tr th {\n",
              "        vertical-align: top;\n",
              "    }\n",
              "\n",
              "    .dataframe thead th {\n",
              "        text-align: right;\n",
              "    }\n",
              "</style>\n",
              "<table border=\"1\" class=\"dataframe\">\n",
              "  <thead>\n",
              "    <tr style=\"text-align: right;\">\n",
              "      <th></th>\n",
              "      <th>id_ticket</th>\n",
              "      <th>provinsi</th>\n",
              "      <th>kota</th>\n",
              "      <th>gender</th>\n",
              "      <th>tahun_lahir</th>\n",
              "      <th>visit_time</th>\n",
              "      <th>test_drive_brand</th>\n",
              "      <th>vehicle</th>\n",
              "      <th>kategori</th>\n",
              "      <th>Usia</th>\n",
              "      <th>kategori_usia</th>\n",
              "      <th>pulau</th>\n",
              "      <th>group</th>\n",
              "    </tr>\n",
              "  </thead>\n",
              "  <tbody>\n",
              "    <tr>\n",
              "      <th>0</th>\n",
              "      <td>1</td>\n",
              "      <td>DKI Jakarta</td>\n",
              "      <td>Jakarta Selatan</td>\n",
              "      <td>Male</td>\n",
              "      <td>2001.0</td>\n",
              "      <td>2021-11-15 14:00:00</td>\n",
              "      <td>Isuzu Indonesia</td>\n",
              "      <td>MU-X 4x4</td>\n",
              "      <td>SUV</td>\n",
              "      <td>20.0</td>\n",
              "      <td>18-24</td>\n",
              "      <td>Jawa</td>\n",
              "      <td>1</td>\n",
              "    </tr>\n",
              "    <tr>\n",
              "      <th>1</th>\n",
              "      <td>2</td>\n",
              "      <td>Banten</td>\n",
              "      <td>Tangerang Selatan</td>\n",
              "      <td>Male</td>\n",
              "      <td>1999.0</td>\n",
              "      <td>2021-11-14 11:00:00</td>\n",
              "      <td>Mazda Indonesia</td>\n",
              "      <td>CX-3</td>\n",
              "      <td>SUV</td>\n",
              "      <td>22.0</td>\n",
              "      <td>18-24</td>\n",
              "      <td>Jawa</td>\n",
              "      <td>1</td>\n",
              "    </tr>\n",
              "    <tr>\n",
              "      <th>2</th>\n",
              "      <td>3</td>\n",
              "      <td>Banten</td>\n",
              "      <td>Tangerang, Kab.</td>\n",
              "      <td>Female</td>\n",
              "      <td>1989.0</td>\n",
              "      <td>2021-11-12 14:00:00</td>\n",
              "      <td>Honda</td>\n",
              "      <td>CR-V</td>\n",
              "      <td>SUV</td>\n",
              "      <td>32.0</td>\n",
              "      <td>25-34</td>\n",
              "      <td>Jawa</td>\n",
              "      <td>1</td>\n",
              "    </tr>\n",
              "    <tr>\n",
              "      <th>3</th>\n",
              "      <td>4</td>\n",
              "      <td>DKI Jakarta</td>\n",
              "      <td>Jakarta Selatan</td>\n",
              "      <td>Male</td>\n",
              "      <td>2002.0</td>\n",
              "      <td>2021-11-21 11:00:00</td>\n",
              "      <td>Hyundai Indonesia</td>\n",
              "      <td>STARIA</td>\n",
              "      <td>Minivan</td>\n",
              "      <td>19.0</td>\n",
              "      <td>18-24</td>\n",
              "      <td>Jawa</td>\n",
              "      <td>0</td>\n",
              "    </tr>\n",
              "    <tr>\n",
              "      <th>4</th>\n",
              "      <td>5</td>\n",
              "      <td>Jawa Barat</td>\n",
              "      <td>Bekasi, Kab.</td>\n",
              "      <td>Male</td>\n",
              "      <td>1998.0</td>\n",
              "      <td>2021-11-16 11:00:00</td>\n",
              "      <td>KIA</td>\n",
              "      <td>GRAND CARNIVAL</td>\n",
              "      <td>Minivan</td>\n",
              "      <td>23.0</td>\n",
              "      <td>18-24</td>\n",
              "      <td>Jawa</td>\n",
              "      <td>0</td>\n",
              "    </tr>\n",
              "  </tbody>\n",
              "</table>\n",
              "</div>\n",
              "      <button class=\"colab-df-convert\" onclick=\"convertToInteractive('df-cf0ebc0d-f3ba-48aa-866d-dbbdc788cfc7')\"\n",
              "              title=\"Convert this dataframe to an interactive table.\"\n",
              "              style=\"display:none;\">\n",
              "        \n",
              "  <svg xmlns=\"http://www.w3.org/2000/svg\" height=\"24px\"viewBox=\"0 0 24 24\"\n",
              "       width=\"24px\">\n",
              "    <path d=\"M0 0h24v24H0V0z\" fill=\"none\"/>\n",
              "    <path d=\"M18.56 5.44l.94 2.06.94-2.06 2.06-.94-2.06-.94-.94-2.06-.94 2.06-2.06.94zm-11 1L8.5 8.5l.94-2.06 2.06-.94-2.06-.94L8.5 2.5l-.94 2.06-2.06.94zm10 10l.94 2.06.94-2.06 2.06-.94-2.06-.94-.94-2.06-.94 2.06-2.06.94z\"/><path d=\"M17.41 7.96l-1.37-1.37c-.4-.4-.92-.59-1.43-.59-.52 0-1.04.2-1.43.59L10.3 9.45l-7.72 7.72c-.78.78-.78 2.05 0 2.83L4 21.41c.39.39.9.59 1.41.59.51 0 1.02-.2 1.41-.59l7.78-7.78 2.81-2.81c.8-.78.8-2.07 0-2.86zM5.41 20L4 18.59l7.72-7.72 1.47 1.35L5.41 20z\"/>\n",
              "  </svg>\n",
              "      </button>\n",
              "      \n",
              "  <style>\n",
              "    .colab-df-container {\n",
              "      display:flex;\n",
              "      flex-wrap:wrap;\n",
              "      gap: 12px;\n",
              "    }\n",
              "\n",
              "    .colab-df-convert {\n",
              "      background-color: #E8F0FE;\n",
              "      border: none;\n",
              "      border-radius: 50%;\n",
              "      cursor: pointer;\n",
              "      display: none;\n",
              "      fill: #1967D2;\n",
              "      height: 32px;\n",
              "      padding: 0 0 0 0;\n",
              "      width: 32px;\n",
              "    }\n",
              "\n",
              "    .colab-df-convert:hover {\n",
              "      background-color: #E2EBFA;\n",
              "      box-shadow: 0px 1px 2px rgba(60, 64, 67, 0.3), 0px 1px 3px 1px rgba(60, 64, 67, 0.15);\n",
              "      fill: #174EA6;\n",
              "    }\n",
              "\n",
              "    [theme=dark] .colab-df-convert {\n",
              "      background-color: #3B4455;\n",
              "      fill: #D2E3FC;\n",
              "    }\n",
              "\n",
              "    [theme=dark] .colab-df-convert:hover {\n",
              "      background-color: #434B5C;\n",
              "      box-shadow: 0px 1px 3px 1px rgba(0, 0, 0, 0.15);\n",
              "      filter: drop-shadow(0px 1px 2px rgba(0, 0, 0, 0.3));\n",
              "      fill: #FFFFFF;\n",
              "    }\n",
              "  </style>\n",
              "\n",
              "      <script>\n",
              "        const buttonEl =\n",
              "          document.querySelector('#df-cf0ebc0d-f3ba-48aa-866d-dbbdc788cfc7 button.colab-df-convert');\n",
              "        buttonEl.style.display =\n",
              "          google.colab.kernel.accessAllowed ? 'block' : 'none';\n",
              "\n",
              "        async function convertToInteractive(key) {\n",
              "          const element = document.querySelector('#df-cf0ebc0d-f3ba-48aa-866d-dbbdc788cfc7');\n",
              "          const dataTable =\n",
              "            await google.colab.kernel.invokeFunction('convertToInteractive',\n",
              "                                                     [key], {});\n",
              "          if (!dataTable) return;\n",
              "\n",
              "          const docLinkHtml = 'Like what you see? Visit the ' +\n",
              "            '<a target=\"_blank\" href=https://colab.research.google.com/notebooks/data_table.ipynb>data table notebook</a>'\n",
              "            + ' to learn more about interactive tables.';\n",
              "          element.innerHTML = '';\n",
              "          dataTable['output_type'] = 'display_data';\n",
              "          await google.colab.output.renderOutput(dataTable, element);\n",
              "          const docLink = document.createElement('div');\n",
              "          docLink.innerHTML = docLinkHtml;\n",
              "          element.appendChild(docLink);\n",
              "        }\n",
              "      </script>\n",
              "    </div>\n",
              "  </div>\n",
              "  "
            ],
            "text/plain": [
              "   id_ticket     provinsi               kota  ... kategori_usia  pulau group\n",
              "0          1  DKI Jakarta    Jakarta Selatan  ...         18-24   Jawa     1\n",
              "1          2       Banten  Tangerang Selatan  ...         18-24   Jawa     1\n",
              "2          3       Banten    Tangerang, Kab.  ...         25-34   Jawa     1\n",
              "3          4  DKI Jakarta    Jakarta Selatan  ...         18-24   Jawa     0\n",
              "4          5   Jawa Barat       Bekasi, Kab.  ...         18-24   Jawa     0\n",
              "\n",
              "[5 rows x 13 columns]"
            ]
          },
          "metadata": {},
          "execution_count": 33
        }
      ],
      "source": [
        "df.head()"
      ]
    },
    {
      "cell_type": "markdown",
      "metadata": {
        "id": "0NXeCCmXv-5X"
      },
      "source": [
        "Kemudian disini kita akan memisahkan kolom fitur dan kolom target. Kolom target adalah kolom <code>Kategori</code>, sedangkan sisanya merupakan kolom fitur."
      ]
    },
    {
      "cell_type": "code",
      "execution_count": null,
      "metadata": {
        "id": "O1d_V_zov-5X"
      },
      "outputs": [],
      "source": [
        "# Mendefinisikan kolom fitur dan target\n",
        "\n",
        "df_features = df.drop('group', axis=1)\n",
        "df_target = df['group']"
      ]
    },
    {
      "cell_type": "markdown",
      "metadata": {
        "id": "eb6xjDc3v-5X"
      },
      "source": [
        "Mari kita lihat hasil dari <code>df_features</code> yang telah kita buat untuk menampung kolom fitur."
      ]
    },
    {
      "cell_type": "code",
      "execution_count": null,
      "metadata": {
        "colab": {
          "base_uri": "https://localhost:8080/",
          "height": 423
        },
        "id": "3x2_xhihv-5X",
        "outputId": "90c470b2-0044-46dc-cf3a-bc43630cb06c"
      },
      "outputs": [
        {
          "output_type": "execute_result",
          "data": {
            "text/html": [
              "\n",
              "  <div id=\"df-e109b4f6-9cfe-40f8-b3fc-337cffc3e45d\">\n",
              "    <div class=\"colab-df-container\">\n",
              "      <div>\n",
              "<style scoped>\n",
              "    .dataframe tbody tr th:only-of-type {\n",
              "        vertical-align: middle;\n",
              "    }\n",
              "\n",
              "    .dataframe tbody tr th {\n",
              "        vertical-align: top;\n",
              "    }\n",
              "\n",
              "    .dataframe thead th {\n",
              "        text-align: right;\n",
              "    }\n",
              "</style>\n",
              "<table border=\"1\" class=\"dataframe\">\n",
              "  <thead>\n",
              "    <tr style=\"text-align: right;\">\n",
              "      <th></th>\n",
              "      <th>id_ticket</th>\n",
              "      <th>provinsi</th>\n",
              "      <th>kota</th>\n",
              "      <th>gender</th>\n",
              "      <th>tahun_lahir</th>\n",
              "      <th>visit_time</th>\n",
              "      <th>test_drive_brand</th>\n",
              "      <th>vehicle</th>\n",
              "      <th>kategori</th>\n",
              "      <th>Usia</th>\n",
              "      <th>kategori_usia</th>\n",
              "      <th>pulau</th>\n",
              "    </tr>\n",
              "  </thead>\n",
              "  <tbody>\n",
              "    <tr>\n",
              "      <th>0</th>\n",
              "      <td>1</td>\n",
              "      <td>DKI Jakarta</td>\n",
              "      <td>Jakarta Selatan</td>\n",
              "      <td>Male</td>\n",
              "      <td>2001.0</td>\n",
              "      <td>2021-11-15 14:00:00</td>\n",
              "      <td>Isuzu Indonesia</td>\n",
              "      <td>MU-X 4x4</td>\n",
              "      <td>SUV</td>\n",
              "      <td>20.0</td>\n",
              "      <td>18-24</td>\n",
              "      <td>Jawa</td>\n",
              "    </tr>\n",
              "    <tr>\n",
              "      <th>1</th>\n",
              "      <td>2</td>\n",
              "      <td>Banten</td>\n",
              "      <td>Tangerang Selatan</td>\n",
              "      <td>Male</td>\n",
              "      <td>1999.0</td>\n",
              "      <td>2021-11-14 11:00:00</td>\n",
              "      <td>Mazda Indonesia</td>\n",
              "      <td>CX-3</td>\n",
              "      <td>SUV</td>\n",
              "      <td>22.0</td>\n",
              "      <td>18-24</td>\n",
              "      <td>Jawa</td>\n",
              "    </tr>\n",
              "    <tr>\n",
              "      <th>2</th>\n",
              "      <td>3</td>\n",
              "      <td>Banten</td>\n",
              "      <td>Tangerang, Kab.</td>\n",
              "      <td>Female</td>\n",
              "      <td>1989.0</td>\n",
              "      <td>2021-11-12 14:00:00</td>\n",
              "      <td>Honda</td>\n",
              "      <td>CR-V</td>\n",
              "      <td>SUV</td>\n",
              "      <td>32.0</td>\n",
              "      <td>25-34</td>\n",
              "      <td>Jawa</td>\n",
              "    </tr>\n",
              "    <tr>\n",
              "      <th>3</th>\n",
              "      <td>4</td>\n",
              "      <td>DKI Jakarta</td>\n",
              "      <td>Jakarta Selatan</td>\n",
              "      <td>Male</td>\n",
              "      <td>2002.0</td>\n",
              "      <td>2021-11-21 11:00:00</td>\n",
              "      <td>Hyundai Indonesia</td>\n",
              "      <td>STARIA</td>\n",
              "      <td>Minivan</td>\n",
              "      <td>19.0</td>\n",
              "      <td>18-24</td>\n",
              "      <td>Jawa</td>\n",
              "    </tr>\n",
              "    <tr>\n",
              "      <th>4</th>\n",
              "      <td>5</td>\n",
              "      <td>Jawa Barat</td>\n",
              "      <td>Bekasi, Kab.</td>\n",
              "      <td>Male</td>\n",
              "      <td>1998.0</td>\n",
              "      <td>2021-11-16 11:00:00</td>\n",
              "      <td>KIA</td>\n",
              "      <td>GRAND CARNIVAL</td>\n",
              "      <td>Minivan</td>\n",
              "      <td>23.0</td>\n",
              "      <td>18-24</td>\n",
              "      <td>Jawa</td>\n",
              "    </tr>\n",
              "    <tr>\n",
              "      <th>...</th>\n",
              "      <td>...</td>\n",
              "      <td>...</td>\n",
              "      <td>...</td>\n",
              "      <td>...</td>\n",
              "      <td>...</td>\n",
              "      <td>...</td>\n",
              "      <td>...</td>\n",
              "      <td>...</td>\n",
              "      <td>...</td>\n",
              "      <td>...</td>\n",
              "      <td>...</td>\n",
              "      <td>...</td>\n",
              "    </tr>\n",
              "    <tr>\n",
              "      <th>15473</th>\n",
              "      <td>17287</td>\n",
              "      <td>Banten</td>\n",
              "      <td>Cilegon</td>\n",
              "      <td>Male</td>\n",
              "      <td>1984.0</td>\n",
              "      <td>2021-11-16 11:00:00</td>\n",
              "      <td>Toyota</td>\n",
              "      <td>VELOZ</td>\n",
              "      <td>MPV</td>\n",
              "      <td>37.0</td>\n",
              "      <td>35-44</td>\n",
              "      <td>Jawa</td>\n",
              "    </tr>\n",
              "    <tr>\n",
              "      <th>15474</th>\n",
              "      <td>17288</td>\n",
              "      <td>Jawa Barat</td>\n",
              "      <td>Bekasi, Kota</td>\n",
              "      <td>Male</td>\n",
              "      <td>1973.0</td>\n",
              "      <td>2021-11-14 11:00:00</td>\n",
              "      <td>Mitsubishi Motors</td>\n",
              "      <td>XPANDER CROSS</td>\n",
              "      <td>MPV</td>\n",
              "      <td>48.0</td>\n",
              "      <td>45-54</td>\n",
              "      <td>Jawa</td>\n",
              "    </tr>\n",
              "    <tr>\n",
              "      <th>15475</th>\n",
              "      <td>17290</td>\n",
              "      <td>Jawa Barat</td>\n",
              "      <td>Bogor, Kab.</td>\n",
              "      <td>Female</td>\n",
              "      <td>2002.0</td>\n",
              "      <td>2021-11-15 11:00:00</td>\n",
              "      <td>Hyundai Indonesia</td>\n",
              "      <td>IONIQ</td>\n",
              "      <td>hatchback</td>\n",
              "      <td>19.0</td>\n",
              "      <td>18-24</td>\n",
              "      <td>Jawa</td>\n",
              "    </tr>\n",
              "    <tr>\n",
              "      <th>15476</th>\n",
              "      <td>17292</td>\n",
              "      <td>Jawa Barat</td>\n",
              "      <td>Bekasi, Kab.</td>\n",
              "      <td>Male</td>\n",
              "      <td>1997.0</td>\n",
              "      <td>2021-11-15 11:00:00</td>\n",
              "      <td>Mazda Indonesia</td>\n",
              "      <td>CX-3</td>\n",
              "      <td>SUV</td>\n",
              "      <td>24.0</td>\n",
              "      <td>18-24</td>\n",
              "      <td>Jawa</td>\n",
              "    </tr>\n",
              "    <tr>\n",
              "      <th>15477</th>\n",
              "      <td>17293</td>\n",
              "      <td>Jawa Barat</td>\n",
              "      <td>Bekasi, Kota</td>\n",
              "      <td>Female</td>\n",
              "      <td>2001.0</td>\n",
              "      <td>2021-11-14 11:00:00</td>\n",
              "      <td>KIA</td>\n",
              "      <td>SONET</td>\n",
              "      <td>SUV</td>\n",
              "      <td>20.0</td>\n",
              "      <td>18-24</td>\n",
              "      <td>Jawa</td>\n",
              "    </tr>\n",
              "  </tbody>\n",
              "</table>\n",
              "<p>15478 rows × 12 columns</p>\n",
              "</div>\n",
              "      <button class=\"colab-df-convert\" onclick=\"convertToInteractive('df-e109b4f6-9cfe-40f8-b3fc-337cffc3e45d')\"\n",
              "              title=\"Convert this dataframe to an interactive table.\"\n",
              "              style=\"display:none;\">\n",
              "        \n",
              "  <svg xmlns=\"http://www.w3.org/2000/svg\" height=\"24px\"viewBox=\"0 0 24 24\"\n",
              "       width=\"24px\">\n",
              "    <path d=\"M0 0h24v24H0V0z\" fill=\"none\"/>\n",
              "    <path d=\"M18.56 5.44l.94 2.06.94-2.06 2.06-.94-2.06-.94-.94-2.06-.94 2.06-2.06.94zm-11 1L8.5 8.5l.94-2.06 2.06-.94-2.06-.94L8.5 2.5l-.94 2.06-2.06.94zm10 10l.94 2.06.94-2.06 2.06-.94-2.06-.94-.94-2.06-.94 2.06-2.06.94z\"/><path d=\"M17.41 7.96l-1.37-1.37c-.4-.4-.92-.59-1.43-.59-.52 0-1.04.2-1.43.59L10.3 9.45l-7.72 7.72c-.78.78-.78 2.05 0 2.83L4 21.41c.39.39.9.59 1.41.59.51 0 1.02-.2 1.41-.59l7.78-7.78 2.81-2.81c.8-.78.8-2.07 0-2.86zM5.41 20L4 18.59l7.72-7.72 1.47 1.35L5.41 20z\"/>\n",
              "  </svg>\n",
              "      </button>\n",
              "      \n",
              "  <style>\n",
              "    .colab-df-container {\n",
              "      display:flex;\n",
              "      flex-wrap:wrap;\n",
              "      gap: 12px;\n",
              "    }\n",
              "\n",
              "    .colab-df-convert {\n",
              "      background-color: #E8F0FE;\n",
              "      border: none;\n",
              "      border-radius: 50%;\n",
              "      cursor: pointer;\n",
              "      display: none;\n",
              "      fill: #1967D2;\n",
              "      height: 32px;\n",
              "      padding: 0 0 0 0;\n",
              "      width: 32px;\n",
              "    }\n",
              "\n",
              "    .colab-df-convert:hover {\n",
              "      background-color: #E2EBFA;\n",
              "      box-shadow: 0px 1px 2px rgba(60, 64, 67, 0.3), 0px 1px 3px 1px rgba(60, 64, 67, 0.15);\n",
              "      fill: #174EA6;\n",
              "    }\n",
              "\n",
              "    [theme=dark] .colab-df-convert {\n",
              "      background-color: #3B4455;\n",
              "      fill: #D2E3FC;\n",
              "    }\n",
              "\n",
              "    [theme=dark] .colab-df-convert:hover {\n",
              "      background-color: #434B5C;\n",
              "      box-shadow: 0px 1px 3px 1px rgba(0, 0, 0, 0.15);\n",
              "      filter: drop-shadow(0px 1px 2px rgba(0, 0, 0, 0.3));\n",
              "      fill: #FFFFFF;\n",
              "    }\n",
              "  </style>\n",
              "\n",
              "      <script>\n",
              "        const buttonEl =\n",
              "          document.querySelector('#df-e109b4f6-9cfe-40f8-b3fc-337cffc3e45d button.colab-df-convert');\n",
              "        buttonEl.style.display =\n",
              "          google.colab.kernel.accessAllowed ? 'block' : 'none';\n",
              "\n",
              "        async function convertToInteractive(key) {\n",
              "          const element = document.querySelector('#df-e109b4f6-9cfe-40f8-b3fc-337cffc3e45d');\n",
              "          const dataTable =\n",
              "            await google.colab.kernel.invokeFunction('convertToInteractive',\n",
              "                                                     [key], {});\n",
              "          if (!dataTable) return;\n",
              "\n",
              "          const docLinkHtml = 'Like what you see? Visit the ' +\n",
              "            '<a target=\"_blank\" href=https://colab.research.google.com/notebooks/data_table.ipynb>data table notebook</a>'\n",
              "            + ' to learn more about interactive tables.';\n",
              "          element.innerHTML = '';\n",
              "          dataTable['output_type'] = 'display_data';\n",
              "          await google.colab.output.renderOutput(dataTable, element);\n",
              "          const docLink = document.createElement('div');\n",
              "          docLink.innerHTML = docLinkHtml;\n",
              "          element.appendChild(docLink);\n",
              "        }\n",
              "      </script>\n",
              "    </div>\n",
              "  </div>\n",
              "  "
            ],
            "text/plain": [
              "       id_ticket     provinsi               kota  ...  Usia  kategori_usia pulau\n",
              "0              1  DKI Jakarta    Jakarta Selatan  ...  20.0          18-24  Jawa\n",
              "1              2       Banten  Tangerang Selatan  ...  22.0          18-24  Jawa\n",
              "2              3       Banten    Tangerang, Kab.  ...  32.0          25-34  Jawa\n",
              "3              4  DKI Jakarta    Jakarta Selatan  ...  19.0          18-24  Jawa\n",
              "4              5   Jawa Barat       Bekasi, Kab.  ...  23.0          18-24  Jawa\n",
              "...          ...          ...                ...  ...   ...            ...   ...\n",
              "15473      17287       Banten            Cilegon  ...  37.0          35-44  Jawa\n",
              "15474      17288   Jawa Barat       Bekasi, Kota  ...  48.0          45-54  Jawa\n",
              "15475      17290   Jawa Barat        Bogor, Kab.  ...  19.0          18-24  Jawa\n",
              "15476      17292   Jawa Barat       Bekasi, Kab.  ...  24.0          18-24  Jawa\n",
              "15477      17293   Jawa Barat       Bekasi, Kota  ...  20.0          18-24  Jawa\n",
              "\n",
              "[15478 rows x 12 columns]"
            ]
          },
          "metadata": {},
          "execution_count": 35
        }
      ],
      "source": [
        "# Menampilkan kolom fitur\n",
        "df_features"
      ]
    },
    {
      "cell_type": "markdown",
      "metadata": {
        "id": "ml3-Jpgvv-5X"
      },
      "source": [
        "### Encoding"
      ]
    },
    {
      "cell_type": "markdown",
      "metadata": {
        "id": "wc2QGwuKv-5X"
      },
      "source": [
        "Selanjutnya adalah melakukan <i>encoding</i> terhadap data yang memiliki nilai kategori seperti pada kolom <code>Gender</code>, <code>Test Drive Brand</code> dan <code>Vehicle</code>. Disini kita akan menggunakan atribut Pandas <code>.cat.codes</code> untuk <i>encoding</i> data tersebut.\n",
        "\n",
        "Nah, seperti yang kita lihat dari hasil <code>info()</code>, tipe data untuk kolom-kolom tersebut adalah <i>object</i>, sementara <code>.cat.codes</code> hanya dapat diaplikasikan pada kolom dengan tipe __category__. Karena itu, kita harus mengubah dulu tipe data dari kolom-kolom tersebut dengan <i>method</i> <code>astype()</code>. Perhatikan kode berikut."
      ]
    },
    {
      "cell_type": "code",
      "execution_count": null,
      "metadata": {
        "colab": {
          "base_uri": "https://localhost:8080/"
        },
        "id": "R0Ruyxvjv-5X",
        "outputId": "6ec94663-3c37-4a23-cfe0-28eceb87261e"
      },
      "outputs": [
        {
          "output_type": "stream",
          "name": "stdout",
          "text": [
            "<class 'pandas.core.frame.DataFrame'>\n",
            "RangeIndex: 15478 entries, 0 to 15477\n",
            "Data columns (total 4 columns):\n",
            " #   Column            Non-Null Count  Dtype   \n",
            "---  ------            --------------  -----   \n",
            " 0   gender            15478 non-null  category\n",
            " 1   test_drive_brand  15478 non-null  category\n",
            " 2   pulau             15478 non-null  category\n",
            " 3   kategori_usia     15478 non-null  category\n",
            "dtypes: category(4)\n",
            "memory usage: 62.2 KB\n"
          ]
        }
      ],
      "source": [
        "# Mengubah tipe data menjadi category\n",
        "df_features[['gender', 'test_drive_brand', 'pulau', 'kategori_usia']] = df_features[['gender', 'test_drive_brand', 'pulau', 'kategori_usia']].astype('category')\n",
        "\n",
        "# Cek hasil perubahan tipe data\n",
        "df_features[['gender', 'test_drive_brand', 'pulau', 'kategori_usia']].info()"
      ]
    },
    {
      "cell_type": "markdown",
      "metadata": {
        "id": "rVdnpUkCv-5Y"
      },
      "source": [
        "Setelah tipe data diubah menjadi <i>category</i>, kita dapat langsung mengaplikasikan atribut <code>.cat.codes</code> untuk tiap kolom seperti di bawah ini."
      ]
    },
    {
      "cell_type": "code",
      "execution_count": null,
      "metadata": {
        "id": "L-YS6EWWv-5Y"
      },
      "outputs": [],
      "source": [
        "# Encoding data dengan .cat.codes\n",
        "\n",
        "df_features['gender'] = df_features['gender'].cat.codes\n",
        "df_features['test_drive_brand'] = df_features['test_drive_brand'].cat.codes\n",
        "df_features['pulau'] = df_features['pulau'].cat.codes\n",
        "df_features['kategori_usia'] = df_features['kategori_usia'].cat.codes"
      ]
    },
    {
      "cell_type": "markdown",
      "metadata": {
        "id": "6WxbbxRrv-5Y"
      },
      "source": [
        "Mari kita lihat hasil <i>encoding</i>-nya."
      ]
    },
    {
      "cell_type": "code",
      "execution_count": null,
      "metadata": {
        "colab": {
          "base_uri": "https://localhost:8080/",
          "height": 205
        },
        "id": "CnGW4COuv-5Y",
        "outputId": "bcd4c331-5ca9-48ce-d492-1f9da0303f37"
      },
      "outputs": [
        {
          "output_type": "execute_result",
          "data": {
            "text/html": [
              "\n",
              "  <div id=\"df-9c519ea8-cd89-4a09-9665-3d545c7df982\">\n",
              "    <div class=\"colab-df-container\">\n",
              "      <div>\n",
              "<style scoped>\n",
              "    .dataframe tbody tr th:only-of-type {\n",
              "        vertical-align: middle;\n",
              "    }\n",
              "\n",
              "    .dataframe tbody tr th {\n",
              "        vertical-align: top;\n",
              "    }\n",
              "\n",
              "    .dataframe thead th {\n",
              "        text-align: right;\n",
              "    }\n",
              "</style>\n",
              "<table border=\"1\" class=\"dataframe\">\n",
              "  <thead>\n",
              "    <tr style=\"text-align: right;\">\n",
              "      <th></th>\n",
              "      <th>id_ticket</th>\n",
              "      <th>provinsi</th>\n",
              "      <th>kota</th>\n",
              "      <th>gender</th>\n",
              "      <th>tahun_lahir</th>\n",
              "      <th>visit_time</th>\n",
              "      <th>test_drive_brand</th>\n",
              "      <th>vehicle</th>\n",
              "      <th>kategori</th>\n",
              "      <th>Usia</th>\n",
              "      <th>kategori_usia</th>\n",
              "      <th>pulau</th>\n",
              "    </tr>\n",
              "  </thead>\n",
              "  <tbody>\n",
              "    <tr>\n",
              "      <th>0</th>\n",
              "      <td>1</td>\n",
              "      <td>DKI Jakarta</td>\n",
              "      <td>Jakarta Selatan</td>\n",
              "      <td>1</td>\n",
              "      <td>2001.0</td>\n",
              "      <td>2021-11-15 14:00:00</td>\n",
              "      <td>4</td>\n",
              "      <td>MU-X 4x4</td>\n",
              "      <td>SUV</td>\n",
              "      <td>20.0</td>\n",
              "      <td>0</td>\n",
              "      <td>1</td>\n",
              "    </tr>\n",
              "    <tr>\n",
              "      <th>1</th>\n",
              "      <td>2</td>\n",
              "      <td>Banten</td>\n",
              "      <td>Tangerang Selatan</td>\n",
              "      <td>1</td>\n",
              "      <td>1999.0</td>\n",
              "      <td>2021-11-14 11:00:00</td>\n",
              "      <td>6</td>\n",
              "      <td>CX-3</td>\n",
              "      <td>SUV</td>\n",
              "      <td>22.0</td>\n",
              "      <td>0</td>\n",
              "      <td>1</td>\n",
              "    </tr>\n",
              "    <tr>\n",
              "      <th>2</th>\n",
              "      <td>3</td>\n",
              "      <td>Banten</td>\n",
              "      <td>Tangerang, Kab.</td>\n",
              "      <td>0</td>\n",
              "      <td>1989.0</td>\n",
              "      <td>2021-11-12 14:00:00</td>\n",
              "      <td>2</td>\n",
              "      <td>CR-V</td>\n",
              "      <td>SUV</td>\n",
              "      <td>32.0</td>\n",
              "      <td>1</td>\n",
              "      <td>1</td>\n",
              "    </tr>\n",
              "    <tr>\n",
              "      <th>3</th>\n",
              "      <td>4</td>\n",
              "      <td>DKI Jakarta</td>\n",
              "      <td>Jakarta Selatan</td>\n",
              "      <td>1</td>\n",
              "      <td>2002.0</td>\n",
              "      <td>2021-11-21 11:00:00</td>\n",
              "      <td>3</td>\n",
              "      <td>STARIA</td>\n",
              "      <td>Minivan</td>\n",
              "      <td>19.0</td>\n",
              "      <td>0</td>\n",
              "      <td>1</td>\n",
              "    </tr>\n",
              "    <tr>\n",
              "      <th>4</th>\n",
              "      <td>5</td>\n",
              "      <td>Jawa Barat</td>\n",
              "      <td>Bekasi, Kab.</td>\n",
              "      <td>1</td>\n",
              "      <td>1998.0</td>\n",
              "      <td>2021-11-16 11:00:00</td>\n",
              "      <td>5</td>\n",
              "      <td>GRAND CARNIVAL</td>\n",
              "      <td>Minivan</td>\n",
              "      <td>23.0</td>\n",
              "      <td>0</td>\n",
              "      <td>1</td>\n",
              "    </tr>\n",
              "  </tbody>\n",
              "</table>\n",
              "</div>\n",
              "      <button class=\"colab-df-convert\" onclick=\"convertToInteractive('df-9c519ea8-cd89-4a09-9665-3d545c7df982')\"\n",
              "              title=\"Convert this dataframe to an interactive table.\"\n",
              "              style=\"display:none;\">\n",
              "        \n",
              "  <svg xmlns=\"http://www.w3.org/2000/svg\" height=\"24px\"viewBox=\"0 0 24 24\"\n",
              "       width=\"24px\">\n",
              "    <path d=\"M0 0h24v24H0V0z\" fill=\"none\"/>\n",
              "    <path d=\"M18.56 5.44l.94 2.06.94-2.06 2.06-.94-2.06-.94-.94-2.06-.94 2.06-2.06.94zm-11 1L8.5 8.5l.94-2.06 2.06-.94-2.06-.94L8.5 2.5l-.94 2.06-2.06.94zm10 10l.94 2.06.94-2.06 2.06-.94-2.06-.94-.94-2.06-.94 2.06-2.06.94z\"/><path d=\"M17.41 7.96l-1.37-1.37c-.4-.4-.92-.59-1.43-.59-.52 0-1.04.2-1.43.59L10.3 9.45l-7.72 7.72c-.78.78-.78 2.05 0 2.83L4 21.41c.39.39.9.59 1.41.59.51 0 1.02-.2 1.41-.59l7.78-7.78 2.81-2.81c.8-.78.8-2.07 0-2.86zM5.41 20L4 18.59l7.72-7.72 1.47 1.35L5.41 20z\"/>\n",
              "  </svg>\n",
              "      </button>\n",
              "      \n",
              "  <style>\n",
              "    .colab-df-container {\n",
              "      display:flex;\n",
              "      flex-wrap:wrap;\n",
              "      gap: 12px;\n",
              "    }\n",
              "\n",
              "    .colab-df-convert {\n",
              "      background-color: #E8F0FE;\n",
              "      border: none;\n",
              "      border-radius: 50%;\n",
              "      cursor: pointer;\n",
              "      display: none;\n",
              "      fill: #1967D2;\n",
              "      height: 32px;\n",
              "      padding: 0 0 0 0;\n",
              "      width: 32px;\n",
              "    }\n",
              "\n",
              "    .colab-df-convert:hover {\n",
              "      background-color: #E2EBFA;\n",
              "      box-shadow: 0px 1px 2px rgba(60, 64, 67, 0.3), 0px 1px 3px 1px rgba(60, 64, 67, 0.15);\n",
              "      fill: #174EA6;\n",
              "    }\n",
              "\n",
              "    [theme=dark] .colab-df-convert {\n",
              "      background-color: #3B4455;\n",
              "      fill: #D2E3FC;\n",
              "    }\n",
              "\n",
              "    [theme=dark] .colab-df-convert:hover {\n",
              "      background-color: #434B5C;\n",
              "      box-shadow: 0px 1px 3px 1px rgba(0, 0, 0, 0.15);\n",
              "      filter: drop-shadow(0px 1px 2px rgba(0, 0, 0, 0.3));\n",
              "      fill: #FFFFFF;\n",
              "    }\n",
              "  </style>\n",
              "\n",
              "      <script>\n",
              "        const buttonEl =\n",
              "          document.querySelector('#df-9c519ea8-cd89-4a09-9665-3d545c7df982 button.colab-df-convert');\n",
              "        buttonEl.style.display =\n",
              "          google.colab.kernel.accessAllowed ? 'block' : 'none';\n",
              "\n",
              "        async function convertToInteractive(key) {\n",
              "          const element = document.querySelector('#df-9c519ea8-cd89-4a09-9665-3d545c7df982');\n",
              "          const dataTable =\n",
              "            await google.colab.kernel.invokeFunction('convertToInteractive',\n",
              "                                                     [key], {});\n",
              "          if (!dataTable) return;\n",
              "\n",
              "          const docLinkHtml = 'Like what you see? Visit the ' +\n",
              "            '<a target=\"_blank\" href=https://colab.research.google.com/notebooks/data_table.ipynb>data table notebook</a>'\n",
              "            + ' to learn more about interactive tables.';\n",
              "          element.innerHTML = '';\n",
              "          dataTable['output_type'] = 'display_data';\n",
              "          await google.colab.output.renderOutput(dataTable, element);\n",
              "          const docLink = document.createElement('div');\n",
              "          docLink.innerHTML = docLinkHtml;\n",
              "          element.appendChild(docLink);\n",
              "        }\n",
              "      </script>\n",
              "    </div>\n",
              "  </div>\n",
              "  "
            ],
            "text/plain": [
              "   id_ticket     provinsi               kota  ...  Usia  kategori_usia pulau\n",
              "0          1  DKI Jakarta    Jakarta Selatan  ...  20.0              0     1\n",
              "1          2       Banten  Tangerang Selatan  ...  22.0              0     1\n",
              "2          3       Banten    Tangerang, Kab.  ...  32.0              1     1\n",
              "3          4  DKI Jakarta    Jakarta Selatan  ...  19.0              0     1\n",
              "4          5   Jawa Barat       Bekasi, Kab.  ...  23.0              0     1\n",
              "\n",
              "[5 rows x 12 columns]"
            ]
          },
          "metadata": {},
          "execution_count": 38
        }
      ],
      "source": [
        "# Menampilkan 5 data teratas\n",
        "\n",
        "df_features.head()"
      ]
    },
    {
      "cell_type": "code",
      "execution_count": null,
      "metadata": {
        "id": "ZWdI0W3cv-5Y"
      },
      "outputs": [],
      "source": [
        "df_features['test_drive_brand'] = pd.to_numeric(df_features['test_drive_brand'])\n",
        "df_features['kategori_usia'] = pd.to_numeric(df_features['kategori_usia'])\n",
        "df_features['pulau'] = pd.to_numeric(df_features['pulau'])"
      ]
    },
    {
      "cell_type": "code",
      "execution_count": null,
      "metadata": {
        "colab": {
          "base_uri": "https://localhost:8080/"
        },
        "id": "veKwBNXtv-5Z",
        "outputId": "ce7081e5-1460-44c0-d026-1f74f03f1d0c"
      },
      "outputs": [
        {
          "output_type": "execute_result",
          "data": {
            "text/plain": [
              "id_ticket                    int64\n",
              "provinsi                    object\n",
              "kota                        object\n",
              "gender                        int8\n",
              "tahun_lahir                float64\n",
              "visit_time          datetime64[ns]\n",
              "test_drive_brand              int8\n",
              "vehicle                     object\n",
              "kategori                    object\n",
              "Usia                       float64\n",
              "kategori_usia                 int8\n",
              "pulau                         int8\n",
              "dtype: object"
            ]
          },
          "metadata": {},
          "execution_count": 40
        }
      ],
      "source": [
        "df_features.dtypes"
      ]
    },
    {
      "cell_type": "code",
      "execution_count": null,
      "metadata": {
        "id": "OyMqvT1Uv-5Z"
      },
      "outputs": [],
      "source": [
        "# Normalisasi data\n",
        "\n",
        "# Mendefinisikan data fitur\n",
        "\n",
        "X = df_features[[ 'gender','test_drive_brand', 'kategori_usia','pulau']].values"
      ]
    },
    {
      "cell_type": "markdown",
      "metadata": {
        "id": "Vwhbi3jKv-5Z"
      },
      "source": [
        "Data fitur sudah siap digunakan dan disimpan dalam variabel <code>X</code>. Sekarang kita definisikan data targetnya, misalnya disini kita masukkan dalam variabel <code>y</code>."
      ]
    },
    {
      "cell_type": "code",
      "execution_count": null,
      "metadata": {
        "id": "3YF4Gsp7v-5Z"
      },
      "outputs": [],
      "source": [
        "# Mendefinisikan data target\n",
        "\n",
        "y = df_target"
      ]
    },
    {
      "cell_type": "markdown",
      "metadata": {
        "id": "6uWTFJYFv-5Z"
      },
      "source": [
        "### Train test split"
      ]
    },
    {
      "cell_type": "markdown",
      "metadata": {
        "id": "x8FRNieav-5Z"
      },
      "source": [
        "Setelah data fitur dan target telah siap digunakan untuk pemodelan, tahap selanjutnya adalah membagi data tersebut menjadi <i>training data</i> dan <i>testing data</i>. Disini kita akan menggunakan <code>train_test_split()</code> dari Scikit-Learn.\n",
        "\n",
        "__Train test split__ membagi data tersebut menjadi <i>training data</i> yang digunakan untuk melatih model <i>machine learning</i> dan <i>testing data</i> yang digunakan untuk mengevaluasi kinerja <i>machine learning</i> tersebut.\n",
        "\n",
        "Kita akan memberikan proporsi untuk data testing sebesar __20%__ yang didefinisikan pada parameter <code>test_size = 0.2</code>."
      ]
    },
    {
      "cell_type": "code",
      "execution_count": null,
      "metadata": {
        "id": "ZHkKZQI7v-5a"
      },
      "outputs": [],
      "source": [
        "# Train test split untuk membagi data training dan testing\n",
        "\n",
        "from sklearn.model_selection import train_test_split\n",
        "\n",
        "# Memisahkan data latih dan data uji\n",
        "X_train, X_test, y_train, y_test = train_test_split(X, y, test_size=0.2, random_state=1)\n"
      ]
    },
    {
      "cell_type": "markdown",
      "metadata": {
        "id": "0EmUwXeg53iQ"
      },
      "source": [
        "## Model"
      ]
    },
    {
      "cell_type": "markdown",
      "metadata": {
        "id": "oI64URxNv-5a"
      },
      "source": [
        "### Random Forest"
      ]
    },
    {
      "cell_type": "code",
      "execution_count": null,
      "metadata": {
        "colab": {
          "base_uri": "https://localhost:8080/"
        },
        "id": "IRCPKuSUv-5a",
        "outputId": "802bad7f-5344-48b8-9875-7ca1ec03454d"
      },
      "outputs": [
        {
          "output_type": "execute_result",
          "data": {
            "text/plain": [
              "RandomForestClassifier(criterion='entropy', n_jobs=2, random_state=1)"
            ]
          },
          "metadata": {},
          "execution_count": 44
        }
      ],
      "source": [
        "from sklearn.ensemble import RandomForestClassifier\n",
        "from sklearn.model_selection import cross_val_score\n",
        "# Membuat model dengan random forest\n",
        "model_rf = RandomForestClassifier(n_estimators=100, criterion='entropy',random_state=1,n_jobs=2)\n",
        "model_rf.fit(X_train, y_train)"
      ]
    },
    {
      "cell_type": "code",
      "execution_count": null,
      "metadata": {
        "id": "nmRI6vygv-5a"
      },
      "outputs": [],
      "source": [
        "# Menguji model\n",
        "y_pred = model_rf.predict(X_test)"
      ]
    },
    {
      "cell_type": "code",
      "execution_count": null,
      "metadata": {
        "colab": {
          "base_uri": "https://localhost:8080/"
        },
        "id": "n_L4DEWtzRxD",
        "outputId": "ad379e4f-0bba-4895-f149-98ed8ce42cdc"
      },
      "outputs": [
        {
          "output_type": "stream",
          "name": "stdout",
          "text": [
            "Akurasi Random Forest : 0.7748708010335917\n"
          ]
        }
      ],
      "source": [
        "from sklearn import metrics\n",
        "\n",
        "# Menampilkan akurasi\n",
        "print('Akurasi Random Forest :', metrics.accuracy_score(y_test, y_pred))"
      ]
    },
    {
      "cell_type": "code",
      "execution_count": null,
      "metadata": {
        "colab": {
          "base_uri": "https://localhost:8080/"
        },
        "id": "o-j6wjNAzVYB",
        "outputId": "c5e35114-0dba-4e9d-bc45-9a0e59139184"
      },
      "outputs": [
        {
          "output_type": "stream",
          "name": "stdout",
          "text": [
            "              precision    recall  f1-score   support\n",
            "\n",
            "           0       0.79      0.65      0.71      1328\n",
            "           1       0.77      0.87      0.81      1768\n",
            "\n",
            "    accuracy                           0.77      3096\n",
            "   macro avg       0.78      0.76      0.76      3096\n",
            "weighted avg       0.78      0.77      0.77      3096\n",
            "\n"
          ]
        }
      ],
      "source": [
        "from sklearn.metrics import classification_report\n",
        "\n",
        "# Menampilkan classification report\n",
        "print(classification_report(y_test, y_pred))"
      ]
    },
    {
      "cell_type": "markdown",
      "metadata": {
        "id": "DYre_HneoUzF"
      },
      "source": [
        "### K-Fold Random Forest"
      ]
    },
    {
      "cell_type": "code",
      "execution_count": null,
      "metadata": {
        "colab": {
          "base_uri": "https://localhost:8080/"
        },
        "id": "NKBQuSPIoVuo",
        "outputId": "d98d289b-0218-4156-ed29-c9012e5a6edb"
      },
      "outputs": [
        {
          "output_type": "stream",
          "name": "stdout",
          "text": [
            "Mean ROC AUC: 0.84396\n",
            "F1_scores per fold :  [0.81648936 0.82159315 0.80685564 0.80769231 0.80943026 0.81132075\n",
            " 0.80366492 0.8129544  0.82106685 0.80371353 0.81254082 0.81662269\n",
            " 0.8168643  0.80683311 0.80898876 0.81216931 0.81196013 0.80673401\n",
            " 0.78905207 0.81902246 0.80453636 0.8139382  0.81525312 0.7989312\n",
            " 0.81056106 0.81124498 0.82247765 0.81535407 0.82222222 0.81109643]  \n",
            "Mean F1_score=  0.8113728037641814\n"
          ]
        }
      ],
      "source": [
        "from sklearn.model_selection import RepeatedStratifiedKFold\n",
        "from sklearn.ensemble import RandomForestClassifier\n",
        "from sklearn.model_selection import cross_val_score\n",
        "from numpy import mean\n",
        "\n",
        "# define model\n",
        "model = RandomForestClassifier(criterion='entropy',\n",
        "                                 n_estimators=100,\n",
        "                                 random_state=1,\n",
        "                                 n_jobs=2)\n",
        "# define evaluation procedure\n",
        "cv = RepeatedStratifiedKFold(n_splits=10, n_repeats=3, random_state=1)\n",
        "# evaluate model\n",
        "scores = cross_val_score(model, X_train, y_train, scoring='roc_auc', cv=cv, n_jobs=-1)\n",
        "# summarize performance\n",
        "print('Mean ROC AUC: %.5f' % mean(scores))\n",
        "# Cross validation scores\n",
        "f1_scores = cross_val_score(model, X_train, y_train, cv=cv, scoring='f1', error_score='raise')\n",
        "print(\"F1_scores per fold : \",f1_scores,\" \\nMean F1_score= \",mean(f1_scores))"
      ]
    },
    {
      "cell_type": "markdown",
      "metadata": {
        "id": "bF6L0nnZv-5a"
      },
      "source": [
        "### Gradient Boosting"
      ]
    },
    {
      "cell_type": "code",
      "execution_count": null,
      "metadata": {
        "colab": {
          "base_uri": "https://localhost:8080/"
        },
        "id": "23-CWHdLv-5b",
        "outputId": "3a40e087-69ff-40bc-d33a-7d29494cbf0f"
      },
      "outputs": [
        {
          "output_type": "stream",
          "name": "stdout",
          "text": [
            "Model training Score: 0.769 Model test Score: 0.764\n",
            "[[ 872  456]\n",
            " [ 275 1493]]\n",
            "              precision    recall  f1-score   support\n",
            "\n",
            "           0       0.76      0.66      0.70      1328\n",
            "           1       0.77      0.84      0.80      1768\n",
            "\n",
            "    accuracy                           0.76      3096\n",
            "   macro avg       0.76      0.75      0.75      3096\n",
            "weighted avg       0.76      0.76      0.76      3096\n",
            "\n"
          ]
        }
      ],
      "source": [
        "from sklearn.ensemble import GradientBoostingClassifier\n",
        "from sklearn.metrics import confusion_matrix\n",
        "from sklearn.metrics import accuracy_score\n",
        "from sklearn.metrics import classification_report\n",
        "clf = GradientBoostingClassifier(n_estimators=100, \n",
        "                                 learning_rate=1.0, max_depth=1, \n",
        "                                 random_state=0).fit(X_train, y_train)\n",
        "#clf.score(x_test, y_test)\n",
        "y_predTrain = clf.predict(X_train)\n",
        "y_predTest = clf.predict(X_test)\n",
        "confusion_matrix = confusion_matrix(y_test, y_predTest)\n",
        "\n",
        "\n",
        "print('Model training Score: %.3f' % accuracy_score(y_train, y_predTrain),\n",
        "      'Model test Score: %.3f' %accuracy_score(y_test, y_predTest))\n",
        "print(confusion_matrix)\n",
        "print(classification_report(y_test, y_predTest))"
      ]
    },
    {
      "cell_type": "markdown",
      "metadata": {
        "id": "9QNiJEFA6ejl"
      },
      "source": [
        "### K-Fold Gradient Boosting"
      ]
    },
    {
      "cell_type": "code",
      "execution_count": null,
      "metadata": {
        "colab": {
          "base_uri": "https://localhost:8080/"
        },
        "id": "ZDaznU1j6AgO",
        "outputId": "815162f3-099d-4c88-cbf3-cb7651dad38d"
      },
      "outputs": [
        {
          "output_type": "stream",
          "name": "stdout",
          "text": [
            "Mean ROC AUC: 0.84090\n",
            "F1_scores per fold :  [0.80913978 0.8139382  0.81358189 0.79731544 0.81167109 0.8173456\n",
            " 0.80204997 0.80722892 0.82009504 0.79784367 0.81510417 0.81553398\n",
            " 0.81012658 0.79308051 0.81204013 0.81254169 0.80561122 0.80136054\n",
            " 0.81578947 0.82017253 0.80758808 0.80213904 0.81333333 0.79624665\n",
            " 0.81245858 0.80810811 0.81558442 0.81526104 0.81848627 0.80375084]  \n",
            "Mean F1_score=  0.8094842257711719\n"
          ]
        }
      ],
      "source": [
        "from numpy import mean\n",
        "from sklearn.model_selection import cross_val_score\n",
        "from sklearn.model_selection import RepeatedStratifiedKFold\n",
        "from sklearn.ensemble import GradientBoostingClassifier\n",
        "\n",
        "\n",
        "# define model\n",
        "model = GradientBoostingClassifier(n_estimators=100, \n",
        "                                 learning_rate=1.0, max_depth=1, \n",
        "                                 random_state=0)\n",
        "# define evaluation procedure\n",
        "cv = RepeatedStratifiedKFold(n_splits=10, n_repeats=3, random_state=1)\n",
        "# evaluate model\n",
        "scores = cross_val_score(model, X_train, y_train, scoring='roc_auc', cv=cv, n_jobs=-1)\n",
        "# summarize performance\n",
        "print('Mean ROC AUC: %.5f' % mean(scores))\n",
        "# Cross validation scores\n",
        "f1_scores = cross_val_score(model, X_train, y_train, cv=cv, scoring='f1', error_score='raise')\n",
        "print(\"F1_scores per fold : \",f1_scores,\" \\nMean F1_score= \",mean(f1_scores))"
      ]
    },
    {
      "cell_type": "markdown",
      "metadata": {
        "id": "_Tk-UMnKCtHL"
      },
      "source": [
        "### Voting"
      ]
    },
    {
      "cell_type": "code",
      "execution_count": null,
      "metadata": {
        "colab": {
          "base_uri": "https://localhost:8080/"
        },
        "id": "ddo4dFm8lpbK",
        "outputId": "d532e674-de18-448a-d0b3-de0629ddcbcf"
      },
      "outputs": [
        {
          "output_type": "stream",
          "name": "stdout",
          "text": [
            "Soft Voting Score 0.78\n",
            "              precision    recall  f1-score   support\n",
            "\n",
            "           0       0.78      0.66      0.72      1328\n",
            "           1       0.77      0.86      0.81      1768\n",
            "\n",
            "    accuracy                           0.78      3096\n",
            "   macro avg       0.78      0.76      0.77      3096\n",
            "weighted avg       0.78      0.78      0.77      3096\n",
            "\n",
            "F1_scores per fold :  [0.82098361 0.82018111 0.81447368 0.80769231 0.80870712 0.81654436\n",
            " 0.8038835  0.8139382  0.82643525 0.8042328  0.81151832 0.82214984\n",
            " 0.81608438 0.8        0.81812125 0.81291173 0.81515349 0.80805369\n",
            " 0.79814077 0.82213439 0.8069241  0.81447368 0.81535407 0.79705291\n",
            " 0.81056106 0.81324503 0.82337829 0.8166777  0.82213439 0.81109643]  \n",
            "Mean F1_score=  0.8130745823643568\n",
            "Mean ROC AUC: 0.84626\n",
            "Acc: 0.77096\n"
          ]
        }
      ],
      "source": [
        "#voting\n",
        "from sklearn.ensemble import VotingClassifier\n",
        "from sklearn.ensemble import RandomForestClassifier\n",
        "from sklearn.metrics import accuracy_score\n",
        "from sklearn.pipeline import make_pipeline\n",
        "from sklearn.ensemble import StackingClassifier\n",
        "from sklearn.ensemble import GradientBoostingClassifier\n",
        "from sklearn.metrics import classification_report\n",
        "from sklearn.model_selection import cross_val_score\n",
        "from sklearn.model_selection import RepeatedStratifiedKFold\n",
        "from numpy import mean\n",
        "\n",
        "\n",
        "# group / ensemble of models\n",
        "estimator = []\n",
        "estimator.append(('GB', \n",
        "                  GradientBoostingClassifier(n_estimators=100, \n",
        "                                 learning_rate=1.0, max_depth=1, \n",
        "                                 random_state=0)))\n",
        "\n",
        "estimator.append(('RandomForestClassifier', RandomForestClassifier(criterion='entropy',\n",
        "                                 n_estimators=100,\n",
        "                                 random_state=1,\n",
        "                                 n_jobs=2)))\n",
        "  \n",
        "# Voting Classifier with soft voting\n",
        "vot_soft = VotingClassifier(estimators = estimator, voting ='soft')\n",
        "vot_soft.fit(X_train, y_train)\n",
        "y_pred = vot_soft.predict(X_test)\n",
        "  \n",
        "# using accuracy_score\n",
        "score = accuracy_score(y_test, y_pred)\n",
        "print(\"Soft Voting Score %0.2f\" % score)\n",
        "print(classification_report(y_test, y_pred))\n",
        "\n",
        "# define evaluation procedure\n",
        "cv = RepeatedStratifiedKFold(n_splits=10, n_repeats=3, random_state=1)\n",
        "\n",
        "\n",
        "# evaluate model\n",
        "rocscores = cross_val_score(vot_soft, X_train, y_train, scoring='roc_auc', cv=cv, n_jobs=-1)\n",
        "accscores = cross_val_score(vot_soft, X_train, y_train, scoring='accuracy', cv=cv, n_jobs=-1)\n",
        "f1scores = cross_val_score(vot_soft, X_train, y_train, scoring='f1', cv=cv, n_jobs=-1)\n",
        "\n",
        "print(\"F1_scores per fold : \",f1scores,\" \\nMean F1_score= \",mean(f1scores))\n",
        "print('Mean ROC AUC: %.5f' % mean(rocscores))\n",
        "print('Acc: %.5f' % mean(accscores))"
      ]
    },
    {
      "cell_type": "code",
      "execution_count": null,
      "metadata": {
        "id": "SXKmtgPsRx8m"
      },
      "outputs": [],
      "source": [
        "from numpy import mean\n",
        "from numpy import std\n",
        "from sklearn.model_selection import cross_val_score\n",
        "from sklearn.model_selection import RepeatedStratifiedKFold\n",
        "from sklearn.ensemble import VotingClassifier\n",
        "from sklearn.ensemble import RandomForestClassifier\n",
        "from sklearn.metrics import accuracy_score\n",
        "from sklearn.pipeline import make_pipeline\n",
        "from sklearn.ensemble import GradientBoostingClassifier\n",
        "from sklearn.metrics import classification_report\n",
        "from sklearn.svm import SVC\n",
        "from xgboost import XGBClassifier\n",
        "from matplotlib import pyplot\n",
        " \n",
        "# get a voting ensemble of models\n",
        "def get_voting():\n",
        "\t# define the base models\n",
        "\tmodels = list()\n",
        "\tmodels.append(('GB', \n",
        "                  GradientBoostingClassifier(n_estimators=100, \n",
        "                                 learning_rate=1.0, max_depth=1, \n",
        "                                 random_state=0)))\n",
        "\tmodels.append(('RandomForestClassifier', RandomForestClassifier(criterion='entropy',\n",
        "                                 n_estimators=100,\n",
        "                                 random_state=1,\n",
        "                                 n_jobs=2)))\n",
        "\tmodels.append(('SVM', SVC(C=64.0, kernel=\"rbf\", gamma=\"auto\",probability=True)))\n",
        "\tmodels.append(('XGB', XGBClassifier(scale_pos_weight=99)))\n",
        "\t\n",
        "\t# define the voting ensemble\n",
        "\tensemble = VotingClassifier(estimators=models, voting='soft')\n",
        "\treturn ensemble\n",
        "\n",
        "# get a list of models to evaluate\n",
        "def get_models():\n",
        "\tmodels = dict()\n",
        "\tmodels['GB'] = GradientBoostingClassifier(n_estimators=100, \n",
        "                                 learning_rate=1.0, max_depth=1, \n",
        "                                 random_state=0)\n",
        "\tmodels['RF'] = RandomForestClassifier(criterion='entropy',\n",
        "                                 n_estimators=100,\n",
        "                                 random_state=1,\n",
        "                                 n_jobs=2)\n",
        "\tmodels['SVM'] = SVC(C=64.0, kernel=\"rbf\", gamma=\"auto\",probability=True)\n",
        "\tmodels['XGB'] = XGBClassifier(scale_pos_weight=99)\n",
        "\tmodels['soft_voting'] = get_voting()\n",
        "\treturn models\n",
        "\n",
        "models = get_models() \n",
        "# evaluate a give model using cross-validation\n",
        "\n",
        "\n",
        "cv = RepeatedStratifiedKFold(n_splits=10, n_repeats=3, random_state=1)\n"
      ]
    },
    {
      "cell_type": "code",
      "source": [
        "scores = cross_val_score(models['soft_voting'], X_train, y_train, scoring='accuracy', cv=cv, n_jobs=-1, error_score='raise')\n",
        "\n",
        "\n",
        "\n",
        "\n",
        "print('Acc: %.5f' % mean(scores))"
      ],
      "metadata": {
        "colab": {
          "base_uri": "https://localhost:8080/",
          "height": 379
        },
        "id": "4GgJitCA7DAg",
        "outputId": "9f4edea9-7abb-40d7-b150-7d43063c553e"
      },
      "execution_count": null,
      "outputs": [
        {
          "output_type": "error",
          "ename": "KeyboardInterrupt",
          "evalue": "ignored",
          "traceback": [
            "\u001b[0;31m---------------------------------------------------------------------------\u001b[0m",
            "\u001b[0;31mKeyboardInterrupt\u001b[0m                         Traceback (most recent call last)",
            "\u001b[0;32m<ipython-input-54-bdb4f493d93a>\u001b[0m in \u001b[0;36m<module>\u001b[0;34m()\u001b[0m\n\u001b[0;32m----> 1\u001b[0;31m \u001b[0mscores\u001b[0m \u001b[0;34m=\u001b[0m \u001b[0mcross_val_score\u001b[0m\u001b[0;34m(\u001b[0m\u001b[0mmodels\u001b[0m\u001b[0;34m[\u001b[0m\u001b[0;34m'soft_voting'\u001b[0m\u001b[0;34m]\u001b[0m\u001b[0;34m,\u001b[0m \u001b[0mX_train\u001b[0m\u001b[0;34m,\u001b[0m \u001b[0my_train\u001b[0m\u001b[0;34m,\u001b[0m \u001b[0mscoring\u001b[0m\u001b[0;34m=\u001b[0m\u001b[0;34m'accuracy'\u001b[0m\u001b[0;34m,\u001b[0m \u001b[0mcv\u001b[0m\u001b[0;34m=\u001b[0m\u001b[0mcv\u001b[0m\u001b[0;34m,\u001b[0m \u001b[0mn_jobs\u001b[0m\u001b[0;34m=\u001b[0m\u001b[0;34m-\u001b[0m\u001b[0;36m1\u001b[0m\u001b[0;34m,\u001b[0m \u001b[0merror_score\u001b[0m\u001b[0;34m=\u001b[0m\u001b[0;34m'raise'\u001b[0m\u001b[0;34m)\u001b[0m\u001b[0;34m\u001b[0m\u001b[0;34m\u001b[0m\u001b[0m\n\u001b[0m\u001b[1;32m      2\u001b[0m \u001b[0;34m\u001b[0m\u001b[0m\n\u001b[1;32m      3\u001b[0m \u001b[0;34m\u001b[0m\u001b[0m\n\u001b[1;32m      4\u001b[0m \u001b[0;34m\u001b[0m\u001b[0m\n\u001b[1;32m      5\u001b[0m \u001b[0;34m\u001b[0m\u001b[0m\n",
            "\u001b[0;32m/usr/local/lib/python3.7/dist-packages/sklearn/model_selection/_validation.py\u001b[0m in \u001b[0;36mcross_val_score\u001b[0;34m(estimator, X, y, groups, scoring, cv, n_jobs, verbose, fit_params, pre_dispatch, error_score)\u001b[0m\n\u001b[1;32m    519\u001b[0m         \u001b[0mfit_params\u001b[0m\u001b[0;34m=\u001b[0m\u001b[0mfit_params\u001b[0m\u001b[0;34m,\u001b[0m\u001b[0;34m\u001b[0m\u001b[0;34m\u001b[0m\u001b[0m\n\u001b[1;32m    520\u001b[0m         \u001b[0mpre_dispatch\u001b[0m\u001b[0;34m=\u001b[0m\u001b[0mpre_dispatch\u001b[0m\u001b[0;34m,\u001b[0m\u001b[0;34m\u001b[0m\u001b[0;34m\u001b[0m\u001b[0m\n\u001b[0;32m--> 521\u001b[0;31m         \u001b[0merror_score\u001b[0m\u001b[0;34m=\u001b[0m\u001b[0merror_score\u001b[0m\u001b[0;34m,\u001b[0m\u001b[0;34m\u001b[0m\u001b[0;34m\u001b[0m\u001b[0m\n\u001b[0m\u001b[1;32m    522\u001b[0m     )\n\u001b[1;32m    523\u001b[0m     \u001b[0;32mreturn\u001b[0m \u001b[0mcv_results\u001b[0m\u001b[0;34m[\u001b[0m\u001b[0;34m\"test_score\"\u001b[0m\u001b[0;34m]\u001b[0m\u001b[0;34m\u001b[0m\u001b[0;34m\u001b[0m\u001b[0m\n",
            "\u001b[0;32m/usr/local/lib/python3.7/dist-packages/sklearn/model_selection/_validation.py\u001b[0m in \u001b[0;36mcross_validate\u001b[0;34m(estimator, X, y, groups, scoring, cv, n_jobs, verbose, fit_params, pre_dispatch, return_train_score, return_estimator, error_score)\u001b[0m\n\u001b[1;32m    281\u001b[0m             \u001b[0merror_score\u001b[0m\u001b[0;34m=\u001b[0m\u001b[0merror_score\u001b[0m\u001b[0;34m,\u001b[0m\u001b[0;34m\u001b[0m\u001b[0;34m\u001b[0m\u001b[0m\n\u001b[1;32m    282\u001b[0m         )\n\u001b[0;32m--> 283\u001b[0;31m         \u001b[0;32mfor\u001b[0m \u001b[0mtrain\u001b[0m\u001b[0;34m,\u001b[0m \u001b[0mtest\u001b[0m \u001b[0;32min\u001b[0m \u001b[0mcv\u001b[0m\u001b[0;34m.\u001b[0m\u001b[0msplit\u001b[0m\u001b[0;34m(\u001b[0m\u001b[0mX\u001b[0m\u001b[0;34m,\u001b[0m \u001b[0my\u001b[0m\u001b[0;34m,\u001b[0m \u001b[0mgroups\u001b[0m\u001b[0;34m)\u001b[0m\u001b[0;34m\u001b[0m\u001b[0;34m\u001b[0m\u001b[0m\n\u001b[0m\u001b[1;32m    284\u001b[0m     )\n\u001b[1;32m    285\u001b[0m \u001b[0;34m\u001b[0m\u001b[0m\n",
            "\u001b[0;32m/usr/local/lib/python3.7/dist-packages/joblib/parallel.py\u001b[0m in \u001b[0;36m__call__\u001b[0;34m(self, iterable)\u001b[0m\n\u001b[1;32m   1054\u001b[0m \u001b[0;34m\u001b[0m\u001b[0m\n\u001b[1;32m   1055\u001b[0m             \u001b[0;32mwith\u001b[0m \u001b[0mself\u001b[0m\u001b[0;34m.\u001b[0m\u001b[0m_backend\u001b[0m\u001b[0;34m.\u001b[0m\u001b[0mretrieval_context\u001b[0m\u001b[0;34m(\u001b[0m\u001b[0;34m)\u001b[0m\u001b[0;34m:\u001b[0m\u001b[0;34m\u001b[0m\u001b[0;34m\u001b[0m\u001b[0m\n\u001b[0;32m-> 1056\u001b[0;31m                 \u001b[0mself\u001b[0m\u001b[0;34m.\u001b[0m\u001b[0mretrieve\u001b[0m\u001b[0;34m(\u001b[0m\u001b[0;34m)\u001b[0m\u001b[0;34m\u001b[0m\u001b[0;34m\u001b[0m\u001b[0m\n\u001b[0m\u001b[1;32m   1057\u001b[0m             \u001b[0;31m# Make sure that we get a last message telling us we are done\u001b[0m\u001b[0;34m\u001b[0m\u001b[0;34m\u001b[0m\u001b[0;34m\u001b[0m\u001b[0m\n\u001b[1;32m   1058\u001b[0m             \u001b[0melapsed_time\u001b[0m \u001b[0;34m=\u001b[0m \u001b[0mtime\u001b[0m\u001b[0;34m.\u001b[0m\u001b[0mtime\u001b[0m\u001b[0;34m(\u001b[0m\u001b[0;34m)\u001b[0m \u001b[0;34m-\u001b[0m \u001b[0mself\u001b[0m\u001b[0;34m.\u001b[0m\u001b[0m_start_time\u001b[0m\u001b[0;34m\u001b[0m\u001b[0;34m\u001b[0m\u001b[0m\n",
            "\u001b[0;32m/usr/local/lib/python3.7/dist-packages/joblib/parallel.py\u001b[0m in \u001b[0;36mretrieve\u001b[0;34m(self)\u001b[0m\n\u001b[1;32m    933\u001b[0m             \u001b[0;32mtry\u001b[0m\u001b[0;34m:\u001b[0m\u001b[0;34m\u001b[0m\u001b[0;34m\u001b[0m\u001b[0m\n\u001b[1;32m    934\u001b[0m                 \u001b[0;32mif\u001b[0m \u001b[0mgetattr\u001b[0m\u001b[0;34m(\u001b[0m\u001b[0mself\u001b[0m\u001b[0;34m.\u001b[0m\u001b[0m_backend\u001b[0m\u001b[0;34m,\u001b[0m \u001b[0;34m'supports_timeout'\u001b[0m\u001b[0;34m,\u001b[0m \u001b[0;32mFalse\u001b[0m\u001b[0;34m)\u001b[0m\u001b[0;34m:\u001b[0m\u001b[0;34m\u001b[0m\u001b[0;34m\u001b[0m\u001b[0m\n\u001b[0;32m--> 935\u001b[0;31m                     \u001b[0mself\u001b[0m\u001b[0;34m.\u001b[0m\u001b[0m_output\u001b[0m\u001b[0;34m.\u001b[0m\u001b[0mextend\u001b[0m\u001b[0;34m(\u001b[0m\u001b[0mjob\u001b[0m\u001b[0;34m.\u001b[0m\u001b[0mget\u001b[0m\u001b[0;34m(\u001b[0m\u001b[0mtimeout\u001b[0m\u001b[0;34m=\u001b[0m\u001b[0mself\u001b[0m\u001b[0;34m.\u001b[0m\u001b[0mtimeout\u001b[0m\u001b[0;34m)\u001b[0m\u001b[0;34m)\u001b[0m\u001b[0;34m\u001b[0m\u001b[0;34m\u001b[0m\u001b[0m\n\u001b[0m\u001b[1;32m    936\u001b[0m                 \u001b[0;32melse\u001b[0m\u001b[0;34m:\u001b[0m\u001b[0;34m\u001b[0m\u001b[0;34m\u001b[0m\u001b[0m\n\u001b[1;32m    937\u001b[0m                     \u001b[0mself\u001b[0m\u001b[0;34m.\u001b[0m\u001b[0m_output\u001b[0m\u001b[0;34m.\u001b[0m\u001b[0mextend\u001b[0m\u001b[0;34m(\u001b[0m\u001b[0mjob\u001b[0m\u001b[0;34m.\u001b[0m\u001b[0mget\u001b[0m\u001b[0;34m(\u001b[0m\u001b[0;34m)\u001b[0m\u001b[0;34m)\u001b[0m\u001b[0;34m\u001b[0m\u001b[0;34m\u001b[0m\u001b[0m\n",
            "\u001b[0;32m/usr/local/lib/python3.7/dist-packages/joblib/_parallel_backends.py\u001b[0m in \u001b[0;36mwrap_future_result\u001b[0;34m(future, timeout)\u001b[0m\n\u001b[1;32m    540\u001b[0m         AsyncResults.get from multiprocessing.\"\"\"\n\u001b[1;32m    541\u001b[0m         \u001b[0;32mtry\u001b[0m\u001b[0;34m:\u001b[0m\u001b[0;34m\u001b[0m\u001b[0;34m\u001b[0m\u001b[0m\n\u001b[0;32m--> 542\u001b[0;31m             \u001b[0;32mreturn\u001b[0m \u001b[0mfuture\u001b[0m\u001b[0;34m.\u001b[0m\u001b[0mresult\u001b[0m\u001b[0;34m(\u001b[0m\u001b[0mtimeout\u001b[0m\u001b[0;34m=\u001b[0m\u001b[0mtimeout\u001b[0m\u001b[0;34m)\u001b[0m\u001b[0;34m\u001b[0m\u001b[0;34m\u001b[0m\u001b[0m\n\u001b[0m\u001b[1;32m    543\u001b[0m         \u001b[0;32mexcept\u001b[0m \u001b[0mCfTimeoutError\u001b[0m \u001b[0;32mas\u001b[0m \u001b[0me\u001b[0m\u001b[0;34m:\u001b[0m\u001b[0;34m\u001b[0m\u001b[0;34m\u001b[0m\u001b[0m\n\u001b[1;32m    544\u001b[0m             \u001b[0;32mraise\u001b[0m \u001b[0mTimeoutError\u001b[0m \u001b[0;32mfrom\u001b[0m \u001b[0me\u001b[0m\u001b[0;34m\u001b[0m\u001b[0;34m\u001b[0m\u001b[0m\n",
            "\u001b[0;32m/usr/lib/python3.7/concurrent/futures/_base.py\u001b[0m in \u001b[0;36mresult\u001b[0;34m(self, timeout)\u001b[0m\n\u001b[1;32m    428\u001b[0m                 \u001b[0;32mreturn\u001b[0m \u001b[0mself\u001b[0m\u001b[0;34m.\u001b[0m\u001b[0m__get_result\u001b[0m\u001b[0;34m(\u001b[0m\u001b[0;34m)\u001b[0m\u001b[0;34m\u001b[0m\u001b[0;34m\u001b[0m\u001b[0m\n\u001b[1;32m    429\u001b[0m \u001b[0;34m\u001b[0m\u001b[0m\n\u001b[0;32m--> 430\u001b[0;31m             \u001b[0mself\u001b[0m\u001b[0;34m.\u001b[0m\u001b[0m_condition\u001b[0m\u001b[0;34m.\u001b[0m\u001b[0mwait\u001b[0m\u001b[0;34m(\u001b[0m\u001b[0mtimeout\u001b[0m\u001b[0;34m)\u001b[0m\u001b[0;34m\u001b[0m\u001b[0;34m\u001b[0m\u001b[0m\n\u001b[0m\u001b[1;32m    431\u001b[0m \u001b[0;34m\u001b[0m\u001b[0m\n\u001b[1;32m    432\u001b[0m             \u001b[0;32mif\u001b[0m \u001b[0mself\u001b[0m\u001b[0;34m.\u001b[0m\u001b[0m_state\u001b[0m \u001b[0;32min\u001b[0m \u001b[0;34m[\u001b[0m\u001b[0mCANCELLED\u001b[0m\u001b[0;34m,\u001b[0m \u001b[0mCANCELLED_AND_NOTIFIED\u001b[0m\u001b[0;34m]\u001b[0m\u001b[0;34m:\u001b[0m\u001b[0;34m\u001b[0m\u001b[0;34m\u001b[0m\u001b[0m\n",
            "\u001b[0;32m/usr/lib/python3.7/threading.py\u001b[0m in \u001b[0;36mwait\u001b[0;34m(self, timeout)\u001b[0m\n\u001b[1;32m    294\u001b[0m         \u001b[0;32mtry\u001b[0m\u001b[0;34m:\u001b[0m    \u001b[0;31m# restore state no matter what (e.g., KeyboardInterrupt)\u001b[0m\u001b[0;34m\u001b[0m\u001b[0;34m\u001b[0m\u001b[0m\n\u001b[1;32m    295\u001b[0m             \u001b[0;32mif\u001b[0m \u001b[0mtimeout\u001b[0m \u001b[0;32mis\u001b[0m \u001b[0;32mNone\u001b[0m\u001b[0;34m:\u001b[0m\u001b[0;34m\u001b[0m\u001b[0;34m\u001b[0m\u001b[0m\n\u001b[0;32m--> 296\u001b[0;31m                 \u001b[0mwaiter\u001b[0m\u001b[0;34m.\u001b[0m\u001b[0macquire\u001b[0m\u001b[0;34m(\u001b[0m\u001b[0;34m)\u001b[0m\u001b[0;34m\u001b[0m\u001b[0;34m\u001b[0m\u001b[0m\n\u001b[0m\u001b[1;32m    297\u001b[0m                 \u001b[0mgotit\u001b[0m \u001b[0;34m=\u001b[0m \u001b[0;32mTrue\u001b[0m\u001b[0;34m\u001b[0m\u001b[0;34m\u001b[0m\u001b[0m\n\u001b[1;32m    298\u001b[0m             \u001b[0;32melse\u001b[0m\u001b[0;34m:\u001b[0m\u001b[0;34m\u001b[0m\u001b[0;34m\u001b[0m\u001b[0m\n",
            "\u001b[0;31mKeyboardInterrupt\u001b[0m: "
          ]
        }
      ]
    },
    {
      "cell_type": "code",
      "source": [
        "rocscores = cross_val_score(models['soft_voting'], X_train, y_train, scoring='roc_auc', cv=cv, n_jobs=-1)\t \n",
        "\n",
        "print('Mean ROC AUC: %.5f' % mean(rocscores))"
      ],
      "metadata": {
        "colab": {
          "base_uri": "https://localhost:8080/",
          "height": 344
        },
        "id": "f3ysnAE2W_fH",
        "outputId": "b45cdb7f-2794-4ccc-9263-c7eb8fb3577e"
      },
      "execution_count": null,
      "outputs": [
        {
          "output_type": "error",
          "ename": "KeyboardInterrupt",
          "evalue": "ignored",
          "traceback": [
            "\u001b[0;31m---------------------------------------------------------------------------\u001b[0m",
            "\u001b[0;31mKeyboardInterrupt\u001b[0m                         Traceback (most recent call last)",
            "\u001b[0;32m<ipython-input-55-761a8268ace0>\u001b[0m in \u001b[0;36m<module>\u001b[0;34m()\u001b[0m\n\u001b[0;32m----> 1\u001b[0;31m \u001b[0mrocscores\u001b[0m \u001b[0;34m=\u001b[0m \u001b[0mcross_val_score\u001b[0m\u001b[0;34m(\u001b[0m\u001b[0mmodels\u001b[0m\u001b[0;34m[\u001b[0m\u001b[0;34m'soft_voting'\u001b[0m\u001b[0;34m]\u001b[0m\u001b[0;34m,\u001b[0m \u001b[0mX_train\u001b[0m\u001b[0;34m,\u001b[0m \u001b[0my_train\u001b[0m\u001b[0;34m,\u001b[0m \u001b[0mscoring\u001b[0m\u001b[0;34m=\u001b[0m\u001b[0;34m'roc_auc'\u001b[0m\u001b[0;34m,\u001b[0m \u001b[0mcv\u001b[0m\u001b[0;34m=\u001b[0m\u001b[0mcv\u001b[0m\u001b[0;34m,\u001b[0m \u001b[0mn_jobs\u001b[0m\u001b[0;34m=\u001b[0m\u001b[0;34m-\u001b[0m\u001b[0;36m1\u001b[0m\u001b[0;34m)\u001b[0m\u001b[0;34m\u001b[0m\u001b[0;34m\u001b[0m\u001b[0m\n\u001b[0m\u001b[1;32m      2\u001b[0m \u001b[0;34m\u001b[0m\u001b[0m\n\u001b[1;32m      3\u001b[0m \u001b[0mprint\u001b[0m\u001b[0;34m(\u001b[0m\u001b[0;34m'Mean ROC AUC: %.5f'\u001b[0m \u001b[0;34m%\u001b[0m \u001b[0mmean\u001b[0m\u001b[0;34m(\u001b[0m\u001b[0mrocscores\u001b[0m\u001b[0;34m)\u001b[0m\u001b[0;34m)\u001b[0m\u001b[0;34m\u001b[0m\u001b[0;34m\u001b[0m\u001b[0m\n",
            "\u001b[0;32m/usr/local/lib/python3.7/dist-packages/sklearn/model_selection/_validation.py\u001b[0m in \u001b[0;36mcross_val_score\u001b[0;34m(estimator, X, y, groups, scoring, cv, n_jobs, verbose, fit_params, pre_dispatch, error_score)\u001b[0m\n\u001b[1;32m    519\u001b[0m         \u001b[0mfit_params\u001b[0m\u001b[0;34m=\u001b[0m\u001b[0mfit_params\u001b[0m\u001b[0;34m,\u001b[0m\u001b[0;34m\u001b[0m\u001b[0;34m\u001b[0m\u001b[0m\n\u001b[1;32m    520\u001b[0m         \u001b[0mpre_dispatch\u001b[0m\u001b[0;34m=\u001b[0m\u001b[0mpre_dispatch\u001b[0m\u001b[0;34m,\u001b[0m\u001b[0;34m\u001b[0m\u001b[0;34m\u001b[0m\u001b[0m\n\u001b[0;32m--> 521\u001b[0;31m         \u001b[0merror_score\u001b[0m\u001b[0;34m=\u001b[0m\u001b[0merror_score\u001b[0m\u001b[0;34m,\u001b[0m\u001b[0;34m\u001b[0m\u001b[0;34m\u001b[0m\u001b[0m\n\u001b[0m\u001b[1;32m    522\u001b[0m     )\n\u001b[1;32m    523\u001b[0m     \u001b[0;32mreturn\u001b[0m \u001b[0mcv_results\u001b[0m\u001b[0;34m[\u001b[0m\u001b[0;34m\"test_score\"\u001b[0m\u001b[0;34m]\u001b[0m\u001b[0;34m\u001b[0m\u001b[0;34m\u001b[0m\u001b[0m\n",
            "\u001b[0;32m/usr/local/lib/python3.7/dist-packages/sklearn/model_selection/_validation.py\u001b[0m in \u001b[0;36mcross_validate\u001b[0;34m(estimator, X, y, groups, scoring, cv, n_jobs, verbose, fit_params, pre_dispatch, return_train_score, return_estimator, error_score)\u001b[0m\n\u001b[1;32m    281\u001b[0m             \u001b[0merror_score\u001b[0m\u001b[0;34m=\u001b[0m\u001b[0merror_score\u001b[0m\u001b[0;34m,\u001b[0m\u001b[0;34m\u001b[0m\u001b[0;34m\u001b[0m\u001b[0m\n\u001b[1;32m    282\u001b[0m         )\n\u001b[0;32m--> 283\u001b[0;31m         \u001b[0;32mfor\u001b[0m \u001b[0mtrain\u001b[0m\u001b[0;34m,\u001b[0m \u001b[0mtest\u001b[0m \u001b[0;32min\u001b[0m \u001b[0mcv\u001b[0m\u001b[0;34m.\u001b[0m\u001b[0msplit\u001b[0m\u001b[0;34m(\u001b[0m\u001b[0mX\u001b[0m\u001b[0;34m,\u001b[0m \u001b[0my\u001b[0m\u001b[0;34m,\u001b[0m \u001b[0mgroups\u001b[0m\u001b[0;34m)\u001b[0m\u001b[0;34m\u001b[0m\u001b[0;34m\u001b[0m\u001b[0m\n\u001b[0m\u001b[1;32m    284\u001b[0m     )\n\u001b[1;32m    285\u001b[0m \u001b[0;34m\u001b[0m\u001b[0m\n",
            "\u001b[0;32m/usr/local/lib/python3.7/dist-packages/joblib/parallel.py\u001b[0m in \u001b[0;36m__call__\u001b[0;34m(self, iterable)\u001b[0m\n\u001b[1;32m   1054\u001b[0m \u001b[0;34m\u001b[0m\u001b[0m\n\u001b[1;32m   1055\u001b[0m             \u001b[0;32mwith\u001b[0m \u001b[0mself\u001b[0m\u001b[0;34m.\u001b[0m\u001b[0m_backend\u001b[0m\u001b[0;34m.\u001b[0m\u001b[0mretrieval_context\u001b[0m\u001b[0;34m(\u001b[0m\u001b[0;34m)\u001b[0m\u001b[0;34m:\u001b[0m\u001b[0;34m\u001b[0m\u001b[0;34m\u001b[0m\u001b[0m\n\u001b[0;32m-> 1056\u001b[0;31m                 \u001b[0mself\u001b[0m\u001b[0;34m.\u001b[0m\u001b[0mretrieve\u001b[0m\u001b[0;34m(\u001b[0m\u001b[0;34m)\u001b[0m\u001b[0;34m\u001b[0m\u001b[0;34m\u001b[0m\u001b[0m\n\u001b[0m\u001b[1;32m   1057\u001b[0m             \u001b[0;31m# Make sure that we get a last message telling us we are done\u001b[0m\u001b[0;34m\u001b[0m\u001b[0;34m\u001b[0m\u001b[0;34m\u001b[0m\u001b[0m\n\u001b[1;32m   1058\u001b[0m             \u001b[0melapsed_time\u001b[0m \u001b[0;34m=\u001b[0m \u001b[0mtime\u001b[0m\u001b[0;34m.\u001b[0m\u001b[0mtime\u001b[0m\u001b[0;34m(\u001b[0m\u001b[0;34m)\u001b[0m \u001b[0;34m-\u001b[0m \u001b[0mself\u001b[0m\u001b[0;34m.\u001b[0m\u001b[0m_start_time\u001b[0m\u001b[0;34m\u001b[0m\u001b[0;34m\u001b[0m\u001b[0m\n",
            "\u001b[0;32m/usr/local/lib/python3.7/dist-packages/joblib/parallel.py\u001b[0m in \u001b[0;36mretrieve\u001b[0;34m(self)\u001b[0m\n\u001b[1;32m    933\u001b[0m             \u001b[0;32mtry\u001b[0m\u001b[0;34m:\u001b[0m\u001b[0;34m\u001b[0m\u001b[0;34m\u001b[0m\u001b[0m\n\u001b[1;32m    934\u001b[0m                 \u001b[0;32mif\u001b[0m \u001b[0mgetattr\u001b[0m\u001b[0;34m(\u001b[0m\u001b[0mself\u001b[0m\u001b[0;34m.\u001b[0m\u001b[0m_backend\u001b[0m\u001b[0;34m,\u001b[0m \u001b[0;34m'supports_timeout'\u001b[0m\u001b[0;34m,\u001b[0m \u001b[0;32mFalse\u001b[0m\u001b[0;34m)\u001b[0m\u001b[0;34m:\u001b[0m\u001b[0;34m\u001b[0m\u001b[0;34m\u001b[0m\u001b[0m\n\u001b[0;32m--> 935\u001b[0;31m                     \u001b[0mself\u001b[0m\u001b[0;34m.\u001b[0m\u001b[0m_output\u001b[0m\u001b[0;34m.\u001b[0m\u001b[0mextend\u001b[0m\u001b[0;34m(\u001b[0m\u001b[0mjob\u001b[0m\u001b[0;34m.\u001b[0m\u001b[0mget\u001b[0m\u001b[0;34m(\u001b[0m\u001b[0mtimeout\u001b[0m\u001b[0;34m=\u001b[0m\u001b[0mself\u001b[0m\u001b[0;34m.\u001b[0m\u001b[0mtimeout\u001b[0m\u001b[0;34m)\u001b[0m\u001b[0;34m)\u001b[0m\u001b[0;34m\u001b[0m\u001b[0;34m\u001b[0m\u001b[0m\n\u001b[0m\u001b[1;32m    936\u001b[0m                 \u001b[0;32melse\u001b[0m\u001b[0;34m:\u001b[0m\u001b[0;34m\u001b[0m\u001b[0;34m\u001b[0m\u001b[0m\n\u001b[1;32m    937\u001b[0m                     \u001b[0mself\u001b[0m\u001b[0;34m.\u001b[0m\u001b[0m_output\u001b[0m\u001b[0;34m.\u001b[0m\u001b[0mextend\u001b[0m\u001b[0;34m(\u001b[0m\u001b[0mjob\u001b[0m\u001b[0;34m.\u001b[0m\u001b[0mget\u001b[0m\u001b[0;34m(\u001b[0m\u001b[0;34m)\u001b[0m\u001b[0;34m)\u001b[0m\u001b[0;34m\u001b[0m\u001b[0;34m\u001b[0m\u001b[0m\n",
            "\u001b[0;32m/usr/local/lib/python3.7/dist-packages/joblib/_parallel_backends.py\u001b[0m in \u001b[0;36mwrap_future_result\u001b[0;34m(future, timeout)\u001b[0m\n\u001b[1;32m    540\u001b[0m         AsyncResults.get from multiprocessing.\"\"\"\n\u001b[1;32m    541\u001b[0m         \u001b[0;32mtry\u001b[0m\u001b[0;34m:\u001b[0m\u001b[0;34m\u001b[0m\u001b[0;34m\u001b[0m\u001b[0m\n\u001b[0;32m--> 542\u001b[0;31m             \u001b[0;32mreturn\u001b[0m \u001b[0mfuture\u001b[0m\u001b[0;34m.\u001b[0m\u001b[0mresult\u001b[0m\u001b[0;34m(\u001b[0m\u001b[0mtimeout\u001b[0m\u001b[0;34m=\u001b[0m\u001b[0mtimeout\u001b[0m\u001b[0;34m)\u001b[0m\u001b[0;34m\u001b[0m\u001b[0;34m\u001b[0m\u001b[0m\n\u001b[0m\u001b[1;32m    543\u001b[0m         \u001b[0;32mexcept\u001b[0m \u001b[0mCfTimeoutError\u001b[0m \u001b[0;32mas\u001b[0m \u001b[0me\u001b[0m\u001b[0;34m:\u001b[0m\u001b[0;34m\u001b[0m\u001b[0;34m\u001b[0m\u001b[0m\n\u001b[1;32m    544\u001b[0m             \u001b[0;32mraise\u001b[0m \u001b[0mTimeoutError\u001b[0m \u001b[0;32mfrom\u001b[0m \u001b[0me\u001b[0m\u001b[0;34m\u001b[0m\u001b[0;34m\u001b[0m\u001b[0m\n",
            "\u001b[0;32m/usr/lib/python3.7/concurrent/futures/_base.py\u001b[0m in \u001b[0;36mresult\u001b[0;34m(self, timeout)\u001b[0m\n\u001b[1;32m    428\u001b[0m                 \u001b[0;32mreturn\u001b[0m \u001b[0mself\u001b[0m\u001b[0;34m.\u001b[0m\u001b[0m__get_result\u001b[0m\u001b[0;34m(\u001b[0m\u001b[0;34m)\u001b[0m\u001b[0;34m\u001b[0m\u001b[0;34m\u001b[0m\u001b[0m\n\u001b[1;32m    429\u001b[0m \u001b[0;34m\u001b[0m\u001b[0m\n\u001b[0;32m--> 430\u001b[0;31m             \u001b[0mself\u001b[0m\u001b[0;34m.\u001b[0m\u001b[0m_condition\u001b[0m\u001b[0;34m.\u001b[0m\u001b[0mwait\u001b[0m\u001b[0;34m(\u001b[0m\u001b[0mtimeout\u001b[0m\u001b[0;34m)\u001b[0m\u001b[0;34m\u001b[0m\u001b[0;34m\u001b[0m\u001b[0m\n\u001b[0m\u001b[1;32m    431\u001b[0m \u001b[0;34m\u001b[0m\u001b[0m\n\u001b[1;32m    432\u001b[0m             \u001b[0;32mif\u001b[0m \u001b[0mself\u001b[0m\u001b[0;34m.\u001b[0m\u001b[0m_state\u001b[0m \u001b[0;32min\u001b[0m \u001b[0;34m[\u001b[0m\u001b[0mCANCELLED\u001b[0m\u001b[0;34m,\u001b[0m \u001b[0mCANCELLED_AND_NOTIFIED\u001b[0m\u001b[0;34m]\u001b[0m\u001b[0;34m:\u001b[0m\u001b[0;34m\u001b[0m\u001b[0;34m\u001b[0m\u001b[0m\n",
            "\u001b[0;32m/usr/lib/python3.7/threading.py\u001b[0m in \u001b[0;36mwait\u001b[0;34m(self, timeout)\u001b[0m\n\u001b[1;32m    294\u001b[0m         \u001b[0;32mtry\u001b[0m\u001b[0;34m:\u001b[0m    \u001b[0;31m# restore state no matter what (e.g., KeyboardInterrupt)\u001b[0m\u001b[0;34m\u001b[0m\u001b[0;34m\u001b[0m\u001b[0m\n\u001b[1;32m    295\u001b[0m             \u001b[0;32mif\u001b[0m \u001b[0mtimeout\u001b[0m \u001b[0;32mis\u001b[0m \u001b[0;32mNone\u001b[0m\u001b[0;34m:\u001b[0m\u001b[0;34m\u001b[0m\u001b[0;34m\u001b[0m\u001b[0m\n\u001b[0;32m--> 296\u001b[0;31m                 \u001b[0mwaiter\u001b[0m\u001b[0;34m.\u001b[0m\u001b[0macquire\u001b[0m\u001b[0;34m(\u001b[0m\u001b[0;34m)\u001b[0m\u001b[0;34m\u001b[0m\u001b[0;34m\u001b[0m\u001b[0m\n\u001b[0m\u001b[1;32m    297\u001b[0m                 \u001b[0mgotit\u001b[0m \u001b[0;34m=\u001b[0m \u001b[0;32mTrue\u001b[0m\u001b[0;34m\u001b[0m\u001b[0;34m\u001b[0m\u001b[0m\n\u001b[1;32m    298\u001b[0m             \u001b[0;32melse\u001b[0m\u001b[0;34m:\u001b[0m\u001b[0;34m\u001b[0m\u001b[0;34m\u001b[0m\u001b[0m\n",
            "\u001b[0;31mKeyboardInterrupt\u001b[0m: "
          ]
        }
      ]
    },
    {
      "cell_type": "code",
      "source": [
        "f1scores = cross_val_score(models['soft_voting'], X_train, y_train, scoring='f1', cv=cv, n_jobs=-1)\n",
        "print(\"F1_scores per fold : \",f1scores,\" \\nMean F1_score= \",mean(f1scores))"
      ],
      "metadata": {
        "id": "oHPTJr6S63J9"
      },
      "execution_count": null,
      "outputs": []
    },
    {
      "cell_type": "markdown",
      "metadata": {
        "id": "9cc9mFZM3gw-"
      },
      "source": [
        "### SVM"
      ]
    },
    {
      "cell_type": "code",
      "execution_count": null,
      "metadata": {
        "id": "Djp4dOs03o-n"
      },
      "outputs": [],
      "source": [
        "from sklearn.svm import SVC\n",
        "from sklearn.metrics import accuracy_score\n",
        "from sklearn.metrics import classification_report\n",
        "\n",
        "# Melatih model\n",
        "model = SVC(C=64.0, kernel=\"rbf\", gamma=\"auto\").fit(X_train, y_train)\n",
        "\n",
        "# Menguji model / memprediksi dengan X_test\n",
        "y_pred = model.predict(X_test)\n",
        "# Menampilkan akurasi data latih dan data uji\n",
        "print('Akurasi Train set: %.3f' % accuracy_score(y_train, model.predict(X_train)))\n",
        "print('Akurasi Test set: %.3f' % accuracy_score(y_test, y_pred))\n",
        "# Menampilkan classification report\n",
        "print(classification_report(y_test, y_pred))"
      ]
    },
    {
      "cell_type": "markdown",
      "metadata": {
        "id": "ieYUONvyCMDW"
      },
      "source": [
        "### K-Fold SVM"
      ]
    },
    {
      "cell_type": "code",
      "execution_count": null,
      "metadata": {
        "id": "2GK4IoGE_pN3"
      },
      "outputs": [],
      "source": [
        "from numpy import mean\n",
        "from sklearn.model_selection import cross_val_score\n",
        "from sklearn.model_selection import RepeatedStratifiedKFold\n",
        "from sklearn.svm import SVC\n",
        "\n",
        "# define model\n",
        "model = SVC(C=64.0, kernel=\"rbf\", gamma=\"auto\")\n",
        "\n",
        "# define evaluation procedure\n",
        "cv = RepeatedStratifiedKFold(n_splits=10, n_repeats=3, random_state=1)\n",
        "# evaluate model\n",
        "scores = cross_val_score(model, X_train, y_train, scoring='roc_auc', cv=cv, n_jobs=-1)\n",
        "# summarize performance\n",
        "print('Mean ROC AUC: %.5f' % mean(scores))\n",
        "# Cross validation scores\n",
        "f1_scores = cross_val_score(model, X_train, y_train, cv=cv, scoring='f1', error_score='raise')\n",
        "print(\"F1_scores per fold : \",f1_scores,\" \\nMean F1_score= \",mean(f1_scores))"
      ]
    },
    {
      "cell_type": "markdown",
      "metadata": {
        "id": "XMtotKaHoOED"
      },
      "source": [
        "### K-Fold XGB"
      ]
    },
    {
      "cell_type": "code",
      "source": [
        "# fit balanced xgboost on an imbalanced classification dataset\n",
        "from numpy import mean\n",
        "from sklearn.model_selection import cross_val_score\n",
        "from sklearn.model_selection import RepeatedStratifiedKFold\n",
        "from xgboost import XGBClassifier\n",
        "\n",
        "# define model\n",
        "model = XGBClassifier(scale_pos_weight=99)\n",
        "# define evaluation procedure\n",
        "cv = RepeatedStratifiedKFold(n_splits=10, n_repeats=3, random_state=1)\n",
        "# evaluate model\n",
        "scores = cross_val_score(model, X, y, scoring='roc_auc', cv=cv, n_jobs=-1)\n",
        "# summarize performance\n",
        "print('Mean ROC AUC: %.5f' % mean(scores))\n",
        "# Cross validation scores\n",
        "f1_scores = cross_val_score(model, X, y, cv=cv, scoring='f1', error_score='raise')\n",
        "print(\"F1_scores per fold : \",f1_scores,\" \\nMean F1_score= \",mean(f1_scores))\n",
        "\n",
        "f1_scores = cross_val_score(model, X, y, cv=cv, scoring='accuracy', error_score='raise')\n",
        "print('Accuracy : %.5f' % mean(f1_scores))"
      ],
      "metadata": {
        "id": "5oqRoNGmrS9B"
      },
      "execution_count": null,
      "outputs": []
    },
    {
      "cell_type": "markdown",
      "metadata": {
        "id": "f64G0Gg8ogLG"
      },
      "source": [
        "### SMOTE"
      ]
    },
    {
      "cell_type": "code",
      "execution_count": null,
      "metadata": {
        "id": "VPE9C0JPGR-N"
      },
      "outputs": [],
      "source": [
        "from pandas import read_csv\n",
        "from imblearn.over_sampling import SMOTE\n",
        "from collections import Counter\n",
        "from matplotlib import pyplot\n",
        "from sklearn.preprocessing import LabelEncoder\n",
        "\n",
        "# transform the dataset\n",
        "oversample = SMOTE()\n",
        "X_train, y_train = oversample.fit_resample(X_train, y_train)\n",
        "# summarize distribution\n",
        "counter = Counter(y_train)\n",
        "for k,v in counter.items():\n",
        "\tper = v / len(y_train) * 100\n",
        "\tprint('Class=%s, n=%d (%.3f%%)' % (k, v, per))\n",
        "# plot the distribution\n",
        "pyplot.bar(counter.keys(), counter.values())\n",
        "pyplot.show()\n"
      ]
    },
    {
      "cell_type": "markdown",
      "metadata": {
        "id": "zmWAOX95orbe"
      },
      "source": [
        "### Random Forest After SMOTE"
      ]
    },
    {
      "cell_type": "code",
      "execution_count": null,
      "metadata": {
        "id": "T5syjw5UowHN"
      },
      "outputs": [],
      "source": [
        "from sklearn.model_selection import RepeatedStratifiedKFold\n",
        "from sklearn.ensemble import RandomForestClassifier\n",
        "from sklearn.model_selection import cross_val_score\n",
        "from numpy import mean\n",
        "\n",
        "# define model\n",
        "model = RandomForestClassifier(criterion='entropy',\n",
        "                                 n_estimators=100,\n",
        "                                 random_state=1,\n",
        "                                 n_jobs=2)\n",
        "# define evaluation procedure\n",
        "cv = RepeatedStratifiedKFold(n_splits=10, n_repeats=3, random_state=1)\n",
        "# evaluate model\n",
        "scores = cross_val_score(model, X_train, y_train, scoring='roc_auc', cv=cv, n_jobs=-1)\n",
        "# summarize performance\n",
        "print('Mean ROC AUC: %.5f' % mean(scores))\n",
        "# Cross validation scores\n",
        "f1_scores = cross_val_score(model, X_train, y_train, cv=cv, scoring='f1', error_score='raise')\n",
        "print(\"F1_scores per fold : \",f1_scores,\" \\nMean F1_score= \",mean(f1_scores))"
      ]
    },
    {
      "cell_type": "markdown",
      "metadata": {
        "id": "xKnrb84EoyYk"
      },
      "source": [
        "### Gradient Boosting After SMOTE"
      ]
    },
    {
      "cell_type": "code",
      "execution_count": null,
      "metadata": {
        "id": "a_j3hyZeo0lT"
      },
      "outputs": [],
      "source": [
        "from sklearn.ensemble import GradientBoostingClassifier\n",
        "from sklearn.metrics import confusion_matrix\n",
        "from sklearn.metrics import classification_report\n",
        "clf = GradientBoostingClassifier(n_estimators=100, \n",
        "                                 learning_rate=1.0, max_depth=1, \n",
        "                                 random_state=0).fit(X_train, y_train)\n",
        "#clf.score(x_test, y_test)\n",
        "y_predTrain = clf.predict(X_train)\n",
        "y_predTest = clf.predict(X_test)\n",
        "confusion_matrix = confusion_matrix(y_test, y_predTest)\n",
        "\n",
        "\n",
        "print('Model training Score: %.3f' % accuracy_score(y_train, y_predTrain),\n",
        "      'Model test Score: %.3f' %accuracy_score(y_test, y_predTest))\n",
        "print(confusion_matrix)\n",
        "print(classification_report(y_test, y_predTest))"
      ]
    },
    {
      "cell_type": "markdown",
      "metadata": {
        "id": "bHg-5PeTo2wE"
      },
      "source": [
        "### XGB After SMOTE"
      ]
    },
    {
      "cell_type": "code",
      "execution_count": null,
      "metadata": {
        "id": "uiAEy8DvpC-1"
      },
      "outputs": [],
      "source": [
        "# fit balanced xgboost on an imbalanced classification dataset\n",
        "from numpy import mean\n",
        "from sklearn.datasets import make_classification\n",
        "from sklearn.model_selection import cross_val_score\n",
        "from sklearn.model_selection import RepeatedStratifiedKFold\n",
        "from xgboost import XGBClassifier\n",
        "\n",
        "# define model\n",
        "model = XGBClassifier(scale_pos_weight=99)\n",
        "# define evaluation procedure\n",
        "cv = RepeatedStratifiedKFold(n_splits=10, n_repeats=3, random_state=1)\n",
        "# evaluate model\n",
        "scores = cross_val_score(model, X_train, y_train, scoring='roc_auc', cv=cv, n_jobs=-1)\n",
        "# summarize performance\n",
        "print('Mean ROC AUC: %.5f' % mean(scores))\n",
        "f1_scores = cross_val_score(model, X_train, y_train, cv=cv, scoring='f1', error_score='raise')\n",
        "print(\"F1_scores per fold : \",f1_scores,\" \\nMean F1_score= \",mean(f1_scores))"
      ]
    },
    {
      "cell_type": "markdown",
      "metadata": {
        "id": "7USg5QR0u90A"
      },
      "source": [
        "### SVM After SMOTE"
      ]
    },
    {
      "cell_type": "code",
      "execution_count": null,
      "metadata": {
        "id": "8aq7uSSdu_CZ"
      },
      "outputs": [],
      "source": [
        "from sklearn.svm import SVC\n",
        "\n",
        "# Melatih model\n",
        "model = SVC(gamma='scale').fit(X_train, y_train)\n",
        "\n",
        "# Menguji model / memprediksi dengan X_test\n",
        "y_pred = model.predict(X_test)\n",
        "\n",
        "\n",
        "from sklearn.metrics import accuracy_score\n",
        "\n",
        "# Menampilkan akurasi data latih dan data uji\n",
        "print('Akurasi Train set: %.3f' % accuracy_score(y_train, model.predict(X_train)))\n",
        "print('Akurasi Test set: %.3f' % accuracy_score(y_test, y_pred))\n",
        "\n",
        "from sklearn.metrics import classification_report\n",
        "\n",
        "# Menampilkan classification report\n",
        "print(classification_report(y_test, y_pred))"
      ]
    }
  ],
  "metadata": {
    "colab": {
      "collapsed_sections": [],
      "name": "test-drive(pakai vehicle).ipynb",
      "toc_visible": true,
      "provenance": []
    },
    "kernelspec": {
      "display_name": "Python 3",
      "language": "python",
      "name": "python3"
    },
    "language_info": {
      "codemirror_mode": {
        "name": "ipython",
        "version": 3
      },
      "file_extension": ".py",
      "mimetype": "text/x-python",
      "name": "python",
      "nbconvert_exporter": "python",
      "pygments_lexer": "ipython3",
      "version": "3.8.8"
    }
  },
  "nbformat": 4,
  "nbformat_minor": 0
}